{
 "cells": [
  {
   "cell_type": "markdown",
   "metadata": {
    "id": "qT-gkPgTiBDz"
   },
   "source": [
    "![Image](https://github.com/tmchartrand/TReND-CaMinA/blob/main/notebooks/Rwanda24/resources/header.png?raw=1)\n",
    "<h1 align=\"center\">Decoding data from the Allen Brain Observatory</h1>\n",
    "<h3 align=\"center\">TReND CaMinA 2024</h3>"
   ]
  },
  {
   "cell_type": "markdown",
   "metadata": {
    "id": "UHKBmTUAiBD0"
   },
   "source": [
    "<div style=\"background: #ADD8E6; border-radius: 3px; padding: 10px;\">\n",
    "\n",
    "In this notebook we're going to continue with the idea of using the neural responses to decode information about the corresponding stimuli, but introducing tools and concepts from machine learning that will simplify this process and let us generalize to decoding an entire population of cells.\n",
    "</div>"
   ]
  },
  {
   "cell_type": "markdown",
   "metadata": {
    "id": "AHFDHWxPiBD2"
   },
   "source": [
    "### Brain Observatory Setup"
   ]
  },
  {
   "cell_type": "code",
   "execution_count": null,
   "metadata": {
    "colab": {
     "base_uri": "https://localhost:8080/",
     "height": 221
    },
    "id": "Z78HatB-iBD2",
    "outputId": "38ba37cc-6018-4f3c-9707-c5553322d77e"
   },
   "outputs": [],
   "source": [
    "# standard data access code\n",
    "import os\n",
    "import sys\n",
    "import platform\n",
    "from allensdk.core.brain_observatory_cache import BrainObservatoryCache\n",
    "\n",
    "# Set file location based on platform.\n",
    "platstring = platform.platform()\n",
    "if ('Darwin' in platstring) or ('macOS' in platstring):\n",
    "    # macOS\n",
    "    data_root = \"/Volumes/TReND2024/\"\n",
    "elif 'Windows'  in platstring:\n",
    "    # Windows (replace with the drive letter of USB drive)\n",
    "    data_root = \"E:/\"\n",
    "elif ('amzn' in platstring) or ('google.colab' in sys.modules):\n",
    "    # then on Code Ocean or Colab\n",
    "    data_root = \"/data/\"\n",
    "elif 'Linux' in platstring:\n",
    "    # then your own linux platform\n",
    "    # EDIT location where you mounted hard drive\n",
    "    data_root = \"/media/$USERNAME/TReND2024/\"\n",
    "\n",
    "# if running locally without external drive, set a local path to download data\n",
    "# data_root = '/path/to/data'\n",
    "\n",
    "manifest_file = os.path.join(data_root,'allen-brain-observatory/visual-coding-2p/manifest.json')\n",
    "boc = BrainObservatoryCache(manifest_file=manifest_file)"
   ]
  },
  {
   "cell_type": "code",
   "execution_count": null,
   "metadata": {
    "id": "HujDVWEViBD2"
   },
   "outputs": [],
   "source": [
    "# imports for this notebook\n",
    "import matplotlib.pyplot as plt\n",
    "import numpy as np\n",
    "import pandas as pd\n",
    "%matplotlib inline"
   ]
  },
  {
   "cell_type": "markdown",
   "metadata": {
    "id": "Dp_Z923-iBD3"
   },
   "source": [
    "## Load dataset and mean responses"
   ]
  },
  {
   "cell_type": "markdown",
   "metadata": {
    "id": "u-XrR9bbiBD3"
   },
   "source": [
    "We've chosen a pair of example cells from the same session to work with here. Start by finding the drifting gratings session that contains these cells, and loading the corresponding data."
   ]
  },
  {
   "cell_type": "code",
   "execution_count": null,
   "metadata": {
    "id": "3kkWNaZ0iBD5"
   },
   "outputs": [],
   "source": [
    "#@title Click to see solution {display-mode: \"form\" }\n",
    "# chosen example cells\n",
    "cell1_id = 517417584\n",
    "cell2_id = 517417136\n",
    "\n",
    "session = boc.get_ophys_experiments(cell_specimen_ids=[cell1_id], stimuli=['drifting_gratings'])[0]\n",
    "session_id = session['id']\n",
    "\n",
    "data_set = boc.get_ophys_experiment_data(session_id)\n",
    "cells_index = data_set.get_cell_specimen_indices([cell1_id, cell2_id])\n",
    "\n",
    "# print session info\n",
    "session"
   ]
  },
  {
   "cell_type": "markdown",
   "metadata": {
    "id": "Pu-2NpqBiBD5"
   },
   "source": [
    "Next find the code you used yesterday to calculate trial-average responses for all cells in an experiment and apply that here. Drop the blank sweeps from the stim table first, we won't be using those in this analysis."
   ]
  },
  {
   "cell_type": "code",
   "execution_count": null,
   "metadata": {
    "id": "pIb18_rYiBD6"
   },
   "outputs": [],
   "source": [
    "#@title Click to see solution {display-mode: \"form\" }\n",
    "timestamps, dff = data_set.get_dff_traces()\n",
    "stim_table = data_set.get_stimulus_table(\"drifting_gratings\")\n",
    "\n",
    "# drop the blank sweeps here, we won't be using them\n",
    "stim_table = stim_table[stim_table[\"blank_sweep\"] == False]\n",
    "\n",
    "mean_sweep_response = pd.DataFrame(\n",
    "    index=stim_table.index, columns=range(dff.shape[0]), dtype=float\n",
    ")\n",
    "# loop over trials, but try not to loop over cells!\n",
    "for trial in stim_table.index:\n",
    "    start = stim_table.loc[trial, \"start\"]\n",
    "    end = stim_table.loc[trial, \"end\"]\n",
    "    mean_sweep_response.loc[trial, :] = dff[:, start:end].mean(axis=1)"
   ]
  },
  {
   "cell_type": "markdown",
   "metadata": {
    "id": "3PxXPq5RiBD6"
   },
   "source": [
    "One additional preparation step here is that we want to rescale (normalize) the responses by cell, subtracting the mean and dividing by the standard deviation so that all of our features have zero mean and unit variance.\n",
    "\n",
    "Define a `norm_responses` array to store the normalized mean responses, and then also select the subset of sweeps (from the stimulus table) and responses with temporal frequency equal to 2 (we'll come back to other frequencies later.)"
   ]
  },
  {
   "cell_type": "code",
   "execution_count": null,
   "metadata": {
    "id": "cadhfuyyiBD6"
   },
   "outputs": [],
   "source": [
    "#@title Click to see solution {display-mode: \"form\" }\n",
    "# Normalize the responses\n",
    "\n",
    "# first convert the mean_sweep_response DataFrame to a numpy array\n",
    "norm_responses = mean_sweep_response.values\n",
    "\n",
    "# then subract the mean and divide by the standard deviation (std)\n",
    "norm_responses = (norm_responses - norm_responses.mean(axis=1, keepdims=True)) / norm_responses.std(axis=1, keepdims=True)\n",
    "\n",
    "# Use the information in the stimulus table to select a subset of norm_responses at a particular temporal frequency\n",
    "\n",
    "selected_sweeps = (stim_table['temporal_frequency'] == 2.0)\n",
    "selected_responses = norm_responses[selected_sweeps, :]"
   ]
  },
  {
   "cell_type": "markdown",
   "metadata": {
    "id": "biNuZbRoiBD6"
   },
   "source": [
    "## Machine learning with scikit-learn\n",
    "\n",
    "We are going to use some basic machine learning to solve a *classification* problem based on this data: given the responses of a set of cells on a given trial, can we predict the stimulus orientation of that trial?\n",
    "\n",
    "We'll use the package scikit-learn (sklearn), which is a popular and powerful machine learning package in Python. One strength of this package is a simple interface (pattern of use) for a variety of different machine learning tools, or *estimators*. It follows an *object-oriented* approach - each estimator is a Python class which must first be initialized, then passed data to fit and make predictions from.\n",
    "\n",
    "We typically represent the data feature matrix by a variable `X` (capital to indicate a 2D matrix, with each column a distinct feature and each row a sample) and the target data by a variable `y` (lowercase to indicate a 1D vector). Once we have initialized a specific estimator (like `model = LogisticRegression()`), the key methods always take the same form: we fit the model using `model.fit(X, y)` and make predictions using `y_pred = model.predict(X)`.\n",
    "\n",
    "This pattern can be used for different types of problems: *classification* when the target is categorical, *regression* when the target is continuous, or even *unsupervised* problems like dimensionality reduction or clustering where there is no target data to train on. Chains of estimators can also be combined into *pipelines* that can be used just as easily as any other estimator.\n"
   ]
  },
  {
   "cell_type": "markdown",
   "metadata": {
    "id": "qA7bpJn0iBD6"
   },
   "source": [
    "<div style=\"background: #DFF0D8; border-radius: 3px; padding: 10px;\">\n",
    "\n",
    "<h1>Part 1: Making and interpreting predictions from 2 cells</h1>\n",
    "\n",
    "</div>"
   ]
  },
  {
   "cell_type": "markdown",
   "metadata": {
    "id": "ibCVFB8GiBD6"
   },
   "source": [
    "### Binary classification"
   ]
  },
  {
   "cell_type": "markdown",
   "metadata": {
    "id": "WqTmHuHjiBD6"
   },
   "source": [
    "\n",
    "We'll start with a *binary classification* of the drifting grating stimuli, predicting whether the orientation matches a single target orientation, based on mean responses from just a single cell."
   ]
  },
  {
   "cell_type": "code",
   "execution_count": null,
   "metadata": {
    "id": "G4yoPxtliBD7"
   },
   "outputs": [],
   "source": [
    "#@title Click to see solution {display-mode: \"form\" }\n",
    "# First define X and y\n",
    "\n",
    "# Create a target variable y that is 1 when the orientation is 45 degrees and 0 otherwise\n",
    "target_orientation = 45\n",
    "\n",
    "y = (stim_table.loc[selected_sweeps, 'orientation'] == target_orientation).astype(int)\n",
    "\n",
    "# and set X to the response of the first cell from above, making sure it has shape (n_trials, 1)\n",
    "\n",
    "X = selected_responses[:, [cells_index[0]]]\n",
    "X.shape"
   ]
  },
  {
   "cell_type": "code",
   "execution_count": null,
   "metadata": {
    "id": "mlj4WemEiBD7"
   },
   "outputs": [],
   "source": [
    "#@title Click to see solution {display-mode: \"form\" }\n",
    "# Create an instance of the Logistic Regression model\n",
    "# we've filled in some parameters that are better for this particular problem\n",
    "from sklearn.linear_model import LogisticRegression\n",
    "model = LogisticRegression(class_weight=\"balanced\", C=1e6)\n",
    "\n",
    "# Fit the model\n",
    "\n",
    "model.fit(X, y)\n",
    "\n",
    "# Predict the target variable\n",
    "\n",
    "y_pred = model.predict(X)\n",
    "\n",
    "# Calculate the accuracy of the model (on what percent of trials does the prediction match the target)\n",
    "\n",
    "accuracy = (y == y_pred).mean()\n",
    "print(accuracy)"
   ]
  },
  {
   "cell_type": "markdown",
   "metadata": {
    "id": "aAMS3IcniBD7"
   },
   "source": [
    "### Visualizing classifier predictions\n",
    "The classifier we chose has the advantage of a fairly simple mathematical formulation, allowing us to interpret how it makes its predictions. It is a *linear* classifier, meaning the classifier predicts \"true\" if $C + k \\cdot x > 0$ and \"false\" otherwise, defining a dividing line to split the input space into true and false samples. We can plot this line using properties of the fitted classifier."
   ]
  },
  {
   "cell_type": "code",
   "execution_count": null,
   "metadata": {
    "id": "3TufxB7LiBD8"
   },
   "outputs": [],
   "source": [
    "#@title Click to see solution {display-mode: \"form\" }\n",
    "# first create a scatter plot of the responses and target variable (y vs X)\n",
    "# with 'true' responses in red and 'false' in blue\n",
    "\n",
    "cell1_responses = selected_responses[:, cells_index[0]]\n",
    "target_trials = y.astype(bool)\n",
    "plt.scatter(cell1_responses[target_trials], y[target_trials], s=10, color='red', label=f\"angle={target_orientation}\")\n",
    "plt.scatter(cell1_responses[~target_trials], y[~target_trials], s=10, color='blue', label=\"other angles\")\n",
    "plt.xlabel(f'Cell {cells_index[0]} Response')\n",
    "plt.ylabel(f\"y (angle={target_orientation})\")\n",
    "\n",
    "# pull the coefficient k and intercept C out of the classifier\n",
    "k = model.coef_[0][0]\n",
    "C = model.intercept_\n",
    "\n",
    "# calculate the dividing line and plot with axvline\n",
    "\n",
    "x_cutoff = -C / k\n",
    "plt.axvline(x_cutoff, color='black')\n",
    "plt.show()"
   ]
  },
  {
   "cell_type": "markdown",
   "metadata": {
    "id": "5wRP0hUkiBD8"
   },
   "source": [
    "\n",
    "### Logistic regression and probabilities\n",
    "The parameters of this line are determined by optimizing a probabilistic model of the data, $\\mathrm{Pr}(y) = f(C + k_0 \\cdot x_0 + k_1 \\cdot x_1 + \\dots)$, where $f$ is the *logistic function* shown in the plot below, $f(x) = \\frac{1}{1-e^{-x}}$:\n",
    "\n",
    "![logistic curve](https://upload.wikimedia.org/wikipedia/commons/8/88/Logistic-curve.svg)\n",
    "\n",
    "We can check these probabilities for any point in our input space using the function `model.predict_proba(X)`. We can then add probabilities to our two-cell response plot also."
   ]
  },
  {
   "cell_type": "code",
   "execution_count": null,
   "metadata": {
    "id": "AUpIaDSLiBD8"
   },
   "outputs": [],
   "source": [
    "#@title Click to see solution {display-mode: \"form\" }\n",
    "# create the plot again...\n",
    "\n",
    "plt.scatter(cell1_responses[target_trials], y[target_trials], s=10, color='red', label=f\"angle={target_orientation}\")\n",
    "plt.scatter(cell1_responses[~target_trials], y[~target_trials], s=10, color='blue', label=\"other angles\")\n",
    "plt.xlabel(f'Cell {cells_index[0]} Response')\n",
    "plt.ylabel(f\"Prob(angle={target_orientation})\")\n",
    "plt.axvline(x_cutoff, color='black')\n",
    "\n",
    "# define a range of x-values to calculate probabilities for\n",
    "\n",
    "xx = np.linspace(cell1_responses.min(), cell1_responses.max(), 50)\n",
    "\n",
    "# predict_proba returns two columns, one for each class - we want the probability of class 1 (angle=45)\n",
    "# Tip: [:,None] reshapes the array to have shape (n, 1) instead of (n,)\n",
    "probs = model.predict_proba(xx[:,None])[:, 1]\n",
    "\n",
    "# plot the probabilities\n",
    "plt.plot(xx, probs, ':')\n",
    "plt.show()"
   ]
  },
  {
   "cell_type": "markdown",
   "metadata": {
    "id": "_ssvOJ4iiBD8"
   },
   "source": [
    "### Classification in 2 dimensions\n",
    "\n",
    "We can add a second cell and fit as before, then visualize this case also, in two dimensions."
   ]
  },
  {
   "cell_type": "code",
   "execution_count": null,
   "metadata": {
    "id": "JSgfg6JziBD8"
   },
   "outputs": [],
   "source": [
    "#@title Click to see solution {display-mode: \"form\" }\n",
    "# redefine X to include both cells\n",
    "\n",
    "X = selected_responses[:, cells_index]\n",
    "\n",
    "# Fit the model\n",
    "\n",
    "model.fit(X, y)\n",
    "\n",
    "# find the accuracy - try using model.score instead of calculating it manually\n",
    "\n",
    "model.score(X, y)"
   ]
  },
  {
   "cell_type": "code",
   "execution_count": null,
   "metadata": {
    "id": "IkAdlHR9iBD9"
   },
   "outputs": [],
   "source": [
    "#@title Click to see solution {display-mode: \"form\" }\n",
    "# There is a built-in function to visualize the classifier boundary and probabilities\n",
    "from sklearn.inspection import DecisionBoundaryDisplay\n",
    "\n",
    "# we've filled in some suggested parameters here, but feel free to change them\n",
    "DecisionBoundaryDisplay.from_estimator(\n",
    "    model,\n",
    "    X,\n",
    "    plot_method=\"pcolormesh\",\n",
    "    response_method=\"predict_proba\",\n",
    "    ax=plt.gca(),\n",
    "    cmap=\"coolwarm\",\n",
    "    vmin=0,\n",
    "    vmax=1,\n",
    "    alpha=0.5,\n",
    "    shading=\"auto\",\n",
    "    eps=0.01,\n",
    ")\n",
    "\n",
    "# plot the data points as before\n",
    "\n",
    "cell1_responses = selected_responses[:, cells_index[0]]\n",
    "cell2_responses = selected_responses[:, cells_index[1]]\n",
    "plt.scatter(cell1_responses, cell2_responses, s=10, c=y, cmap=\"coolwarm\")\n",
    "plt.xlabel(f\"Cell {cells_index[0]} Response\")\n",
    "plt.ylabel(f\"Cell {cells_index[1]} Response\")\n",
    "\n",
    "# add a colorbar showing the scale\n",
    "plt.colorbar(label=f\"Probability of angle={target_orientation}\")\n",
    "plt.show()"
   ]
  },
  {
   "cell_type": "markdown",
   "metadata": {},
   "source": [
    "### Details of above method"
   ]
  },
  {
   "cell_type": "code",
   "execution_count": null,
   "metadata": {
    "id": "DOuPQX8_iBD9"
   },
   "outputs": [],
   "source": [
    "#@title Click to see how DecisionBoundaryDisplay plots the decision boundary {display-mode: \"form\" }\n",
    "# first create a scatter plot of the two cells' responses colored by y\n",
    "# with 'true' responses in red and 'false' in blue\n",
    "cell1_responses = selected_responses[:, cells_index[0]]\n",
    "cell2_responses = selected_responses[:, cells_index[1]]\n",
    "target_trials = y.astype(bool)\n",
    "plt.scatter(cell1_responses[target_trials], cell2_responses[target_trials], s=10, color='red', label=f\"angle={target_orientation}\")\n",
    "plt.scatter(cell1_responses[~target_trials], cell2_responses[~target_trials], s=10, color='blue', label=\"other angles\")\n",
    "plt.xlabel(f'Cell {cells_index[0]} Response')\n",
    "plt.ylabel(f'Cell {cells_index[1]} Response')\n",
    "\n",
    "\n",
    "# pull the coefficient parameters k out of the classifier\n",
    "k = model.coef_[0]\n",
    "C = model.intercept_\n",
    "\n",
    "# pick evenly spaced x-values to plot the classifier boundary line\n",
    "n = 10\n",
    "x_line = np.linspace(cell1_responses.min(), cell1_responses.max(), n)\n",
    "\n",
    "# calculate the y-values of the classifier boundary line using the equation above\n",
    "y_line = (-C - k[0] * x_line) / k[1]\n",
    "plt.plot(x_line, y_line, ':', label=\"classifier boundary\")\n",
    "\n",
    "# adjust the plot bounds with plt.ylim\n",
    "plt.ylim(cell2_responses.min(), cell2_responses.max())\n",
    "\n",
    "plt.legend()\n",
    "plt.show()"
   ]
  },
  {
   "cell_type": "code",
   "execution_count": null,
   "metadata": {
    "id": "81ER7dLMiBD9"
   },
   "outputs": [],
   "source": [
    "#@title Click to see how DecisionBoundaryDisplay plots the probability heatmap {display-mode: \"form\" }\n",
    "# the coolwarm colormap is nice for probabilities, mapping values between 0 and 1 to colors from blue to red\n",
    "cmap = plt.cm.coolwarm\n",
    "# we can use this colormap to color our response scatterplot by the binary targets y\n",
    "\n",
    "# pass evenly spaced x and y coordinates to np.meshgrid to create a grid\n",
    "n = 50\n",
    "xx = np.linspace(cell1_responses.min(), cell1_responses.max(), n)\n",
    "yy = np.linspace(cell2_responses.min(), cell2_responses.max(), n)\n",
    "xgrid, ygrid = np.meshgrid(xx, yy)\n",
    "\n",
    "# flatten and stack these lists to create a X matrix to pass to model.predict_proba\n",
    "Xgrid = np.vstack([xgrid.flatten(), ygrid.flatten()]).T\n",
    "probs = model.predict_proba(Xgrid)[:, 1]\n",
    "\n",
    "# reshape the probabilities to fit the shape of the grid\n",
    "probs_grid = probs.reshape(n, n)\n",
    "plt.pcolormesh(xgrid, ygrid, probs_grid, cmap=cmap, alpha=0.5, shading='auto')\n",
    "\n",
    "# finally, copy the code for our response scatter plot to overlay it here\n",
    "plt.scatter(cell1_responses, cell2_responses, s=10, c=y, cmap='coolwarm')\n",
    "plt.plot(x_line, y_line, ':', label=\"classifier boundary\")\n",
    "plt.xlabel(f'Cell {cells_index[0]} Response')\n",
    "plt.ylabel(f'Cell {cells_index[1]} Response')\n",
    "\n",
    "# and add a colorbar for the probabilities\n",
    "plt.colorbar(label=f'Probability of angle={target_orientation}')\n",
    "plt.show()"
   ]
  },
  {
   "cell_type": "markdown",
   "metadata": {
    "id": "smRDl2TxiBD9"
   },
   "source": [
    "\n",
    "<div style=\"background: #DFF0D8; border-radius: 3px; padding: 10px;\">\n",
    "\n",
    "<h1>Part 2: Population decoding</h1>\n",
    "\n",
    "</div>"
   ]
  },
  {
   "cell_type": "markdown",
   "metadata": {
    "id": "kIbMF-GIiBD-"
   },
   "source": [
    "### Predicting all orientations\n",
    "\n",
    "We can also use the `LogisticRegression` classifier to predict which of the 8 orientations a response comes from. This involves a mathematical model for the probability of each class/orientation, which are then compared for a final prediction. Scikit-learn makes this very easy, adapting the model to do this in the background if we simply pass a *categorical* rather than *binary* target variable `y`."
   ]
  },
  {
   "cell_type": "code",
   "execution_count": null,
   "metadata": {
    "id": "ZD_d-V95iBD-"
   },
   "outputs": [],
   "source": [
    "#@title Click to see solution {display-mode: \"form\" }\n",
    "# redefine y to include all orientations, fit, and find the model accuracy score\n",
    "# Hint: you can actually use the column directly from the dataframe (or convert to an array)\n",
    "\n",
    "X = selected_responses[:, cells_index]\n",
    "y = stim_table.loc[selected_sweeps, 'orientation']\n",
    "model.fit(X, y)\n",
    "model.score(X, y)"
   ]
  },
  {
   "cell_type": "code",
   "execution_count": null,
   "metadata": {
    "id": "UbjLydCLiBD_"
   },
   "outputs": [],
   "source": [
    "# Here's a way to quickly plot the responses labeled by orientation,\n",
    "# to assess whether this poor performance makes sense\n",
    "plt.scatter(*X.T, s=10, c=y, cmap='tab10')\n",
    "plt.xlabel(f'Cell {cells_index[0]} Response')\n",
    "plt.ylabel(f'Cell {cells_index[1]} Response')\n",
    "plt.show()"
   ]
  },
  {
   "cell_type": "markdown",
   "metadata": {
    "id": "vR3D2nrsiBD_"
   },
   "source": [
    "This is not very good, as expected - two cells can only tell us so much. However, sklearn makes it very easy to train on all recorded cells in the session together!"
   ]
  },
  {
   "cell_type": "code",
   "execution_count": null,
   "metadata": {
    "id": "E0v6JdmViBD_"
   },
   "outputs": [],
   "source": [
    "#@title Click to see solution {display-mode: \"form\" }\n",
    "# We need to adjust the model here for this more complex setting\n",
    "model = LogisticRegression(max_iter=10000)\n",
    "\n",
    "# redefine X to include all cells, fit, and find the model accuracy score\n",
    "\n",
    "X = selected_responses\n",
    "y = stim_table.loc[selected_sweeps, 'orientation']\n",
    "\n",
    "model.fit(X, y)\n",
    "model.score(X, y)"
   ]
  },
  {
   "cell_type": "markdown",
   "metadata": {
    "id": "Tgw8y0SAiBD_"
   },
   "source": [
    "**Discuss**: Does anything seem odd to you about this result? Let's discuss why this may not be as perfect as it seems."
   ]
  },
  {
   "cell_type": "markdown",
   "metadata": {
    "id": "HNfbgTeEiBD_"
   },
   "source": [
    "### Splitting training and test data\n",
    "\n",
    "Our ultimate goal is a model that captures **true** patterns in the data, but what does \"true\" mean here? One way of resolving this scientifically would be to experiment: generate more data from the same cells and see if the same patterns are present (if the estimator can predict the stimuli well on the new data). Practically, we can't usually repeat experiments like this, but we can instead hide some of the existing data during the *fit* step and use it only to predict and evaluate. We call the fit data the training dataset, and the hidden data the test dataset.\n",
    "\n",
    "Sklearn has a method to shuffle the data (across trials) and make this split randomly `train_test_split`.\n",
    "\n",
    "**Discuss**: Why might shuffling be important here?"
   ]
  },
  {
   "cell_type": "code",
   "execution_count": null,
   "metadata": {
    "id": "tlSc5i-ciBD_"
   },
   "outputs": [],
   "source": [
    "from sklearn.model_selection import train_test_split\n",
    "\n",
    "# this introduces randomness, so set the random 'seed' for reproducibility\n",
    "np.random.seed(5)\n",
    "# stratify=y ensures that the train and test sets have the same proportion of each class\n",
    "X_train, X_test, y_train, y_test = train_test_split(X, y, stratify=y, test_size=0.25)\n"
   ]
  },
  {
   "cell_type": "code",
   "execution_count": null,
   "metadata": {
    "id": "sRXUaw9piBEA"
   },
   "outputs": [],
   "source": [
    "#@title Click to see solution {display-mode: \"form\" }\n",
    "# Fit the model on the training data, and score (predict) on the test data\n",
    "\n",
    "model.fit(X_train, y_train)\n",
    "model.score(X_test, y_test)\n"
   ]
  },
  {
   "cell_type": "markdown",
   "metadata": {
    "id": "HoWKvgheiBEA"
   },
   "source": [
    "### Viewing the confusion matrix"
   ]
  },
  {
   "cell_type": "markdown",
   "metadata": {
    "id": "kya6--DjiBEA"
   },
   "source": [
    "Let's also visualize a confusion matrix of the pattern of errors. Sklearn has a built-in method for this - try out the function `sklearn.metrics.ConfusionMatrixDisplay.from_estimator()`"
   ]
  },
  {
   "cell_type": "code",
   "execution_count": null,
   "metadata": {
    "id": "qmBffOD_iBEA"
   },
   "outputs": [],
   "source": [
    "#@title Click to see solution {display-mode: \"form\" }\n",
    "from sklearn.metrics import ConfusionMatrixDisplay\n",
    "\n",
    "# call the function...\n",
    "cm_display = ConfusionMatrixDisplay.from_estimator(model, X_test, y_test)"
   ]
  },
  {
   "cell_type": "markdown",
   "metadata": {
    "id": "tf6k4tmaiBEA"
   },
   "source": [
    "### Fitting with all temporal frequencies\n",
    "\n",
    "It's hard to tell if there is a pattern in the above confusion matrix because there are not many trials to plot in our test set. Let's try adding back in the other trials."
   ]
  },
  {
   "cell_type": "code",
   "execution_count": null,
   "metadata": {
    "id": "2rhVPhvNiBEA"
   },
   "outputs": [],
   "source": [
    "#@title Click to see solution {display-mode: \"form\" }\n",
    "# define X and y, fit and score the model\n",
    "\n",
    "X = norm_responses\n",
    "y = stim_table['orientation']\n",
    "X_train, X_test, y_train, y_test = train_test_split(X, y, stratify=y, test_size=0.25)\n",
    "\n",
    "model.fit(X_train, y_train)\n",
    "model.score(X_test, y_test)"
   ]
  },
  {
   "cell_type": "code",
   "execution_count": null,
   "metadata": {
    "id": "WW7a_2VqiBEB"
   },
   "outputs": [],
   "source": [
    "#@title Click to see solution {display-mode: \"form\" }\n",
    "# plot a confusion matrix\n",
    "\n",
    "cm_display = ConfusionMatrixDisplay.from_estimator(model, X_test, y_test , normalize=None)"
   ]
  },
  {
   "cell_type": "markdown",
   "metadata": {
    "id": "DRj1GhTfiBEB"
   },
   "source": [
    "In this case, decoding performance is similar when we include all temporal frequencies. This may not always be true: the effect of temporal frequency can be very different in different experiments if different cell types are sampled (by Cre or depth targeting, or just different fields of view).\n",
    "\n",
    "One advantage of the full dataset, though, is that with more samples we can begin to see a clear pattern to the errors in the confusion matrix plot.\n",
    "\n",
    "**Discuss**: what do you think this pattern means?"
   ]
  },
  {
   "cell_type": "markdown",
   "metadata": {
    "id": "XjYwVbjViBEB"
   },
   "source": [
    "# Exercises:"
   ]
  },
  {
   "cell_type": "markdown",
   "metadata": {
    "id": "3KyAlSMtiBEB"
   },
   "source": [
    "### Exercise 1: Train a classifier on natural image responses"
   ]
  },
  {
   "cell_type": "code",
   "execution_count": null,
   "metadata": {
    "id": "5VQI6t_0iBEB"
   },
   "outputs": [],
   "source": [
    "#@title Click to see solution {display-mode: \"form\" }\n",
    "# find the dataset and stim table for natural scenes for the same cells as above\n",
    "\n",
    "exps = boc.get_ophys_experiments(cell_specimen_ids=[cell1_id], stimuli=['natural_scenes'])\n",
    "session_id = exps[0]['id']\n",
    "data_set_ns = boc.get_ophys_experiment_data(session_id)\n",
    "\n",
    "stim_table_ns = data_set_ns.get_stimulus_table(\"natural_scenes\")\n",
    "stim_table_ns.head()"
   ]
  },
  {
   "cell_type": "code",
   "execution_count": null,
   "metadata": {
    "id": "52xXHYjfiBEC"
   },
   "outputs": [],
   "source": [
    "#@title Click to see solution {display-mode: \"form\" }\n",
    "# how many times is each stimulus presented?\n",
    "\n",
    "stim_table_ns[\"frame\"].value_counts()"
   ]
  },
  {
   "cell_type": "code",
   "execution_count": null,
   "metadata": {
    "id": "97UIcS-oiBEC"
   },
   "outputs": [],
   "source": [
    "#@title Click to see solution {display-mode: \"form\" }\n",
    "# choose a handful of images and subset the stim table to just the relevant trials\n",
    "images = [13, 15, 18]\n",
    "\n",
    "sweeps = stim_table_ns[stim_table_ns[\"frame\"].isin(images)]"
   ]
  },
  {
   "cell_type": "code",
   "execution_count": null,
   "metadata": {
    "id": "gEmaVcq5iBEC"
   },
   "outputs": [],
   "source": [
    "# for fun, let's plot the images we've selected\n",
    "natural_scene_template = data_set_ns.get_stimulus_template('natural_scenes')\n",
    "for i in images:\n",
    "    plt.imshow(natural_scene_template[i,:,:], cmap='gray')\n",
    "    plt.show()"
   ]
  },
  {
   "cell_type": "code",
   "execution_count": null,
   "metadata": {
    "id": "RVuIQa8diBEC"
   },
   "outputs": [],
   "source": [
    "#@title Click to see solution {display-mode: \"form\" }\n",
    "# make your code from above into a function to calculate the normalized mean sweep response\n",
    "def get_mean_sweep_response(dff, stim_table):\n",
    "    # create and fill mean_sweep_response dataframe\n",
    "    mean_sweep_response = pd.DataFrame(\n",
    "        index=stim_table.index, columns=range(dff.shape[0]), dtype=float\n",
    "    )\n",
    "    # loop over trials, but try not to loop over cells!\n",
    "    for trial in stim_table.index:\n",
    "        start = stim_table.loc[trial, \"start\"]\n",
    "        end = stim_table.loc[trial, \"end\"]\n",
    "        mean_sweep_response.loc[trial, :] = dff[:, start:end].mean(axis=1)\n",
    "    # Normalize\n",
    "    norm_responses = mean_sweep_response.values.astype(float)\n",
    "    norm_responses = (norm_responses - norm_responses.mean(axis=1, keepdims=True)) / norm_responses.std(axis=1, keepdims=True)\n",
    "    return norm_responses\n",
    "\n",
    "# then run it on the natural scenes data\n",
    "\n",
    "timestamps, dff = data_set_ns.get_dff_traces()\n",
    "response = get_mean_sweep_response(dff, sweeps)"
   ]
  },
  {
   "cell_type": "code",
   "execution_count": null,
   "metadata": {
    "id": "RHuEuEMuiBED"
   },
   "outputs": [],
   "source": [
    "#@title Click to see solution {display-mode: \"form\" }\n",
    "# define X and y for responses of the pair of cells,\n",
    "# Tip: the cell indices may be different in this new session/dataset\n",
    "\n",
    "cells_index_ns = data_set_ns.get_cell_specimen_indices([cell1_id, cell2_id])\n",
    "X = response[:, cells_index_ns]\n",
    "y = sweeps[\"frame\"]\n",
    "\n",
    "# then plot the responses with a different color for each image frame\n",
    "# don't forget to add a legend (and labels)\n",
    "\n",
    "for value in y.unique():\n",
    "    subset = y == value\n",
    "    plt.scatter(X[subset, 0], X[subset, 1], s=10, label=value)\n",
    "\n",
    "plt.legend()\n",
    "plt.show()\n"
   ]
  },
  {
   "cell_type": "markdown",
   "metadata": {
    "id": "5sFXQDcMiBED"
   },
   "source": [
    "**Discuss**: Does it seem possible to distinguish different images from these two cells' responses?\n",
    "\n",
    "Try decoding from the entire population instead."
   ]
  },
  {
   "cell_type": "code",
   "execution_count": null,
   "metadata": {
    "id": "yHfXu08hiBED"
   },
   "outputs": [],
   "source": [
    "#@title Click to see solution {display-mode: \"form\" }\n",
    "# define X and y for the population of cells, split train and test data,\n",
    "# then fit and score a logistic regression classifier and plot the confusion matrix\n",
    "model = LogisticRegression(max_iter=10000)\n",
    "\n",
    "X = response\n",
    "X_train, X_test, y_train, y_test = train_test_split(X, y, stratify=y, test_size=0.25)\n",
    "\n",
    "model.fit(X_train, y_train)\n",
    "model.score(X_test, y_test)"
   ]
  },
  {
   "cell_type": "markdown",
   "metadata": {
    "id": "IIhUjIR8iBED"
   },
   "source": [
    "Finally, plot a confusion matrix of the results."
   ]
  },
  {
   "cell_type": "code",
   "execution_count": null,
   "metadata": {
    "id": "pefXF9GliBED"
   },
   "outputs": [],
   "source": [
    "#@title Click to see solution {display-mode: \"form\" }\n",
    "cm_display = ConfusionMatrixDisplay.from_estimator(model, X_test, y_test , normalize=None)"
   ]
  },
  {
   "cell_type": "markdown",
   "metadata": {
    "id": "jQw3VhwNiBEE"
   },
   "source": [
    "### Exercise 2: Scoring with cross validation\n",
    "\n",
    "*Cross-validation* is an approach to test model performance on the entire dataset, while avoiding the problem of training and testing on the same data. Instead, the data is split multiple times (with the model retrained each time), so that each sample is part of the test set a single time.\n",
    "\n",
    "![diagram of cross-validation](https://upload.wikimedia.org/wikipedia/commons/thumb/b/b5/K-fold_cross_validation_EN.svg/640px-K-fold_cross_validation_EN.svg.png)\n",
    "\n",
    "Scikit-learn contains a function that makes this ease, `cross_val_score` - try using this to compare performance on all temporal frequencies vs the single one we selected. These results should now be more reliable across multiple runs than our previous comparison!"
   ]
  },
  {
   "cell_type": "code",
   "execution_count": null,
   "metadata": {
    "id": "FZUPCgELiBEE"
   },
   "outputs": [],
   "source": [
    "#@title Click to see solution {display-mode: \"form\" }\n",
    "from sklearn.model_selection import cross_val_score\n",
    "model = LogisticRegression(max_iter=10000)\n",
    "\n",
    "# run cross_val_score on all sweeps, predicting all orientations\n",
    "\n",
    "X = norm_responses\n",
    "y = stim_table['orientation']\n",
    "cross_val_score(model, X, y, cv=5).mean()"
   ]
  },
  {
   "cell_type": "code",
   "execution_count": null,
   "metadata": {
    "id": "-_5n49CJiBEE"
   },
   "outputs": [],
   "source": [
    "# run cross_val_score on selected sweeps (single TF)\n"
   ]
  },
  {
   "cell_type": "code",
   "execution_count": null,
   "metadata": {
    "id": "sCRHgyu2iBEE"
   },
   "outputs": [],
   "source": [
    "#@title Click to see solution {display-mode: \"form\" }\n",
    "# run cross_val_score on selected sweeps (single TF)\n",
    "\n",
    "X = norm_responses[selected_sweeps]\n",
    "y = stim_table.loc[selected_sweeps, 'orientation']\n",
    "cross_val_score(model, X, y, cv=5).mean()"
   ]
  },
  {
   "cell_type": "markdown",
   "metadata": {},
   "source": [
    "### Exercise 3: training with \"class imbalance\"\n",
    "\n",
    "You might be wondering why we set the option `LogisticRegression(class_weight='balanced')`. Try rerunning the binary classification portions without this option and see if you can make sense of how the predictions and classifier boundary change. Hint: it's related to the fact that there are many more \"false\" trials than \"true\" trials.\n",
    "\n",
    "While the accuracy score will likely improve, you should be able to visually identify why we might not want this result. There are other metrics in the `sklearn.metrics` module that may better capture our intuitive idea of a \"good model\" here - try `f1_score` for instance."
   ]
  },
  {
   "cell_type": "code",
   "execution_count": null,
   "metadata": {},
   "outputs": [],
   "source": [
    "#@title Click to see solution (equal weights) {display-mode: \"form\" }\n",
    "\n",
    "y = (stim_table.loc[selected_sweeps, 'orientation'] == target_orientation).astype(int)\n",
    "X = selected_responses[:, cells_index]\n",
    "\n",
    "model = LogisticRegression(C=1e6)\n",
    "model.fit(X, y)\n",
    "y_pred = model.predict(X)\n",
    "\n",
    "from sklearn.metrics import accuracy_score, f1_score, balanced_accuracy_score\n",
    "print(\"Accuracy=\", accuracy_score(y, y_pred))\n",
    "print(\"Balanced Accuracy=\", balanced_accuracy_score(y, y_pred))\n",
    "print(\"F1=\", f1_score(y, y_pred))"
   ]
  },
  {
   "cell_type": "code",
   "execution_count": null,
   "metadata": {},
   "outputs": [],
   "source": [
    "#@title Click to see solution (balanced weights) {display-mode: \"form\" }\n",
    "\n",
    "y = (stim_table.loc[selected_sweeps, 'orientation'] == target_orientation).astype(int)\n",
    "X = selected_responses[:, cells_index]\n",
    "\n",
    "model = LogisticRegression(class_weight=\"balanced\", C=1e6)\n",
    "model.fit(X, y)\n",
    "y_pred = model.predict(X)\n",
    "\n",
    "print(\"Accuracy=\", accuracy_score(y, y_pred))\n",
    "print(\"Balanced Accuracy=\", balanced_accuracy_score(y, y_pred))\n",
    "print(\"F1=\", f1_score(y, y_pred))"
   ]
  },
  {
   "cell_type": "markdown",
   "metadata": {
    "id": "4_v1QiC5iBEE"
   },
   "source": [
    "### Exercise 4: Classifier for both TF & orientation\n",
    "\n",
    "We've seen that decoding can do fairly well with all the data, not knowing about the temporal frequency at all. Is it possible we could increase performance even more by training on both orientation and temporal frequency labels together? A few classifiers in sklearn can function in the *multi-output* context where we pass a 2D matrix of target data instead of a vector. We'll test out one of these, the random forest classifier."
   ]
  },
  {
   "cell_type": "code",
   "execution_count": null,
   "metadata": {
    "id": "0xx-5jm_iBEE"
   },
   "outputs": [],
   "source": [
    "#@title Click to see solution {display-mode: \"form\" }\n",
    "from sklearn.ensemble import RandomForestClassifier\n",
    "\n",
    "# Define the target variable and the feature matrix, and run the train_test_split function\n",
    "\n",
    "X = norm_responses\n",
    "Y = stim_table[['temporal_frequency', 'orientation']]\n",
    "X_train, X_test, y_train, y_test = train_test_split(X, Y, stratify=Y, test_size=0.25)\n",
    "\n",
    "# Create an instance of the Random Forest model, fit the model, and predict the target variable\n",
    "\n",
    "model = RandomForestClassifier()\n",
    "model.fit(X_train, y_train)\n",
    "y_pred = model.predict(X_test)\n"
   ]
  },
  {
   "cell_type": "code",
   "execution_count": null,
   "metadata": {
    "id": "BLGC2c_miBEF"
   },
   "outputs": [],
   "source": [
    "#@title Click to see solution {display-mode: \"form\" }\n",
    "# we can't use model.score in this context, so instead generate a prediction of\n",
    "# the target variables (the two columns of y)\n",
    "# and evaluate accuracy separately each one, using the accuracy_score function\n",
    "from sklearn.metrics import accuracy_score\n",
    "\n",
    "print(\"temporal frequency accuracy: \", accuracy_score(y_test.values[:,0], y_pred[:,0]))\n",
    "print(\"orientation accuracy: \", accuracy_score(y_test.values[:,1], y_pred[:,1]))"
   ]
  },
  {
   "cell_type": "markdown",
   "metadata": {
    "id": "oJaf9ik1iBEF"
   },
   "source": [
    "This is similar to before, but is it actually better? How much does performance vary run to run? As implied in the name, the random forest classifier has an element of randomness in its performance.\n",
    "\n",
    "We should also compare to the same classifier's performance on orientation data only."
   ]
  },
  {
   "cell_type": "code",
   "execution_count": null,
   "metadata": {
    "id": "rf05_nJkiBEF"
   },
   "outputs": [],
   "source": [
    "#@title Click to see solution {display-mode: \"form\" }\n",
    "# Repeat the above process with orientation data only for Y\n",
    "\n",
    "X = norm_responses\n",
    "Y = stim_table['orientation']\n",
    "X_train, X_test, y_train, y_test = train_test_split(X, Y, stratify=Y, test_size=0.25)\n",
    "\n",
    "model.fit(X_train, y_train)\n",
    "model.score(X_test, y_test)"
   ]
  }
 ],
 "metadata": {
  "colab": {
   "provenance": [],
   "toc_visible": true
  },
  "kernelspec": {
   "display_name": "Python 3",
   "language": "python",
   "name": "python3"
  },
  "language_info": {
   "codemirror_mode": {
    "name": "ipython",
    "version": 3
   },
   "file_extension": ".py",
   "mimetype": "text/x-python",
   "name": "python",
   "nbconvert_exporter": "python",
   "pygments_lexer": "ipython3",
   "version": "3.8.5"
  },
  "vscode": {
   "interpreter": {
    "hash": "d4d1e4263499bec80672ea0156c357c1ee493ec2b1c70f0acce89fc37c4a6abe"
   }
  }
 },
 "nbformat": 4,
 "nbformat_minor": 4
}
