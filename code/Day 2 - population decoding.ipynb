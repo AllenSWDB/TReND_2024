{
 "cells": [
  {
   "cell_type": "markdown",
   "metadata": {},
   "source": [
    "## ** To be integrated with other notebook?"
   ]
  },
  {
   "cell_type": "code",
   "execution_count": 1,
   "metadata": {},
   "outputs": [],
   "source": [
    "import matplotlib.pyplot as plt\n",
    "import numpy as np\n",
    "%matplotlib inline\n"
   ]
  },
  {
   "cell_type": "code",
   "execution_count": 2,
   "metadata": {},
   "outputs": [],
   "source": [
    "np.random.seed(42)"
   ]
  },
  {
   "cell_type": "code",
   "execution_count": 3,
   "metadata": {},
   "outputs": [],
   "source": [
    "from allensdk.core.brain_observatory_cache import BrainObservatoryCache\n",
    "\n",
    "manifest_file = '../data/allen-brain-observatory/visual-coding-2p/manifest.json'\n",
    "boc = BrainObservatoryCache(manifest_file=manifest_file)"
   ]
  },
  {
   "cell_type": "code",
   "execution_count": 4,
   "metadata": {},
   "outputs": [],
   "source": [
    "cell1_id = 517417584\n",
    "\n",
    "cell2_id = 517417136\n",
    "# another good (negatively correlated second choice)\n",
    "# cell2_id = 517417337\n",
    "exps = boc.get_ophys_experiments(cell_specimen_ids=[cell1_id], stimuli=['drifting_gratings'])\n",
    "session_id = exps[0]['id']\n",
    "data_set = boc.get_ophys_experiment_data(session_id)"
   ]
  },
  {
   "cell_type": "markdown",
   "metadata": {},
   "source": [
    "## Calculate all mean responses"
   ]
  },
  {
   "cell_type": "code",
   "execution_count": 5,
   "metadata": {},
   "outputs": [],
   "source": [
    "# import pandas as pd\n",
    "\n",
    "# timestamps, dff = data_set.get_dff_traces()\n",
    "# stim_table = data_set.get_stimulus_table(\"drifting_gratings\")\n",
    "# stim_table = stim_table[stim_table['blank_sweep']==False]\n",
    "\n",
    "# all_cells_index = range(dff.shape[0])\n",
    "# mean_sweep_response = pd.DataFrame(index=stim_table.index, columns=all_cells_index)\n",
    "\n",
    "# # now fill this dataframe with trial averaged responses from dff\n",
    "# # you'll need to loop over trials, but try not to loop over cells!\n",
    "# for trial in stim_table.index:\n",
    "#     mean_sweep_response.loc[trial, :] = dff[\n",
    "#         :, stim_table.loc[trial, \"start\"] : stim_table.loc[trial, \"end\"]\n",
    "#     ].mean(axis=1)\n",
    "\n",
    "# # then normalize the data by cell\n",
    "# mean_sweep_response = (mean_sweep_response - mean_sweep_response.mean(axis=1)) / mean_sweep_response.std(axis=1)\n",
    "# mean_sweep_response = mean_sweep_response.dropna(axis=1)"
   ]
  },
  {
   "cell_type": "code",
   "execution_count": 6,
   "metadata": {},
   "outputs": [],
   "source": [
    "# TODO: discuss how different from above!\n",
    "from allensdk.brain_observatory.drifting_gratings import DriftingGratings\n",
    "dg = DriftingGratings(data_set)\n",
    "\n",
    "mean_sweep_response = dg.mean_sweep_response\n",
    "mean_sweep_response = mean_sweep_response.drop(columns=['dx'])\n",
    "mean_sweep_response.columns = mean_sweep_response.columns.astype(int)\n",
    "\n",
    "stim_table = dg.stim_table\n",
    "mean_sweep_response = mean_sweep_response[stim_table['blank_sweep'] == False]\n",
    "stim_table = stim_table[stim_table['blank_sweep'] == False]"
   ]
  },
  {
   "cell_type": "markdown",
   "metadata": {},
   "source": [
    "To understand the responses of the *population* of cells in this session, we'll first simplify things by isolating the stimuli for a particular temporal frequency."
   ]
  },
  {
   "cell_type": "code",
   "execution_count": 7,
   "metadata": {},
   "outputs": [],
   "source": [
    "# Ex:\n",
    "# Use the information in the stimulus table to select a subset of responses at a particular temporal frequency\n",
    "\n",
    "selected_sweeps = (stim_table['temporal_frequency'] == 2.0)\n",
    "selected_responses = mean_sweep_response[selected_sweeps]"
   ]
  },
  {
   "cell_type": "markdown",
   "metadata": {},
   "source": [
    "## Fitting and prediction in scikit-learn\n",
    "\n",
    "We are going to use some basic machine learning to solve a *classification* problem based on this data: given the responses of a set of cells on a given trial, can we predict the stimulus orientation of that trial? \n",
    "\n",
    "We'll use the package scikit-learn (sklearn), which is a popular and powerful machine learning package in Python. One strength of this package is a simple interface (pattern of use) for a variety of different machine learning tools, or *estimators*. It follows an *object-oriented* approach - each estimator is a Python class which must first be initialized, then passed data to fit and make predictions from.\n",
    "\n",
    "This pattern can be used for different types of problems: *classification* when the target is categorical, *regression* when the target is continuous, or even *unsupervised* problems where there is no target data to train on. Chains of estimators can even be combined into *pipelines* that can be used in the same way. \n",
    "\n",
    "We typically represent the data feature matrix by a variable `X` (capital to indicate a 2D matrix, with each column a distinct feature and each row a sample) and the target data by a variable `y` (lowercase to indicate a 1D vector). In terms of these variables, the key methods of an estimator model in sklearn are `model.fit(X, y)` and `model.predict(X)`.\n",
    "\n",
    "We'll start by returning to a *binary classification*, predicting whether the orientation matches a single target orientation, and include only a single cell in our feature matrix."
   ]
  },
  {
   "cell_type": "code",
   "execution_count": 8,
   "metadata": {},
   "outputs": [
    {
     "data": {
      "text/plain": [
       "(119, 1)"
      ]
     },
     "execution_count": 8,
     "metadata": {},
     "output_type": "execute_result"
    }
   ],
   "source": [
    "# First define X and y\n",
    "cells = data_set.get_cell_specimen_indices([cell1_id, cell2_id])\n",
    "target_orientation = 45\n",
    "cells_index = [cells[0]]\n",
    "# Create a binary indicator for our selected orientation\n",
    "y = (stim_table.loc[selected_sweeps, 'orientation'] == target_orientation).astype(int)\n",
    "X = selected_responses.loc[:, cells_index]\n",
    "X.shape"
   ]
  },
  {
   "cell_type": "code",
   "execution_count": 9,
   "metadata": {},
   "outputs": [],
   "source": [
    "from sklearn.linear_model import LogisticRegression\n",
    "# Create an instance of the Logistic Regression model\n",
    "model = LogisticRegression(class_weight=\"balanced\", C=1e6)\n",
    "\n",
    "# Fit the model\n",
    "model.fit(X, y)\n",
    "\n",
    "# Predict the target variable \n",
    "y_pred = model.predict(X)"
   ]
  },
  {
   "cell_type": "code",
   "execution_count": 10,
   "metadata": {},
   "outputs": [
    {
     "name": "stdout",
     "output_type": "stream",
     "text": [
      "0.773109243697479\n"
     ]
    }
   ],
   "source": [
    "# Ex:\n",
    "# Calculate the accuracy of the model (on what percent of trials does the prediction match the target)\n",
    "accuracy = (y == y_pred).mean()\n",
    "print(accuracy)"
   ]
  },
  {
   "cell_type": "markdown",
   "metadata": {},
   "source": [
    "## Visualizing the model predictions\n",
    "\n",
    "The classifier we chose has the advantage of a fairly simple mathematical formulation, allowing us to interpret how it makes its predictions. It is a *linear* classifier, meaning the classifier predicts \"true\" if $C + k \\cdot x > 0$ and \"false\" otherwise, defining a dividing line to split the input space into true and false samples. We can plot this line using properties of the fitted classifier."
   ]
  },
  {
   "cell_type": "code",
   "execution_count": 11,
   "metadata": {},
   "outputs": [
    {
     "data": {
      "image/png": "[encoded data removed]",
      "text/plain": [
       "<Figure size 432x288 with 1 Axes>"
      ]
     },
     "metadata": {
      "needs_background": "light"
     },
     "output_type": "display_data"
    }
   ],
   "source": [
    "# first create a scatter plot of the cell's responses colored by y\n",
    "# with 'true' responses in red and 'false' in blue\n",
    "cell1_responses = selected_responses.loc[:, cells_index[0]]\n",
    "target_trials = y.astype(bool)\n",
    "plt.scatter(cell1_responses[target_trials], y[target_trials], s=10, color='red', label=f\"angle={target_orientation}\")\n",
    "plt.scatter(cell1_responses[~target_trials], y[~target_trials], s=10, color='blue', label=\"other angles\")\n",
    "plt.xlabel(f'Cell {cells_index[0]} Response')\n",
    "plt.ylabel(f\"y (angle={target_orientation})\")\n",
    "\n",
    "# pull the coefficient k and intercept C out of the classifier\n",
    "k = model.coef_[0][0]\n",
    "C = model.intercept_\n",
    "\n",
    "# calculate the dividing line and plot with axvline\n",
    "x_cutoff = -C / k\n",
    "plt.axvline(x_cutoff, color='black')\n",
    "plt.show()"
   ]
  },
  {
   "cell_type": "markdown",
   "metadata": {},
   "source": [
    "\n",
    "### Logistic regression and probabilities\n",
    "The parameters of this line are determined by optimizing a probabilistic model of the data, $\\mathrm{Pr}(y) = f(C + k_0 \\cdot x_0 + k_1 \\cdot x_1 + \\dots)$, where $f$ is the *logistic function* shown in the plot below, $f(x) = \\frac{1}{1-e^{-x}}$:\n",
    "\n",
    "![logistic curve](https://upload.wikimedia.org/wikipedia/commons/8/88/Logistic-curve.svg)\n",
    "\n",
    "We can check these probabilities for any point in our input space using the function `model.predict_proba(X)`. We can then add probabilities to our two-cell response plot also."
   ]
  },
  {
   "cell_type": "code",
   "execution_count": 12,
   "metadata": {},
   "outputs": [
    {
     "data": {
      "image/png": "[encoded data removed]",
      "text/plain": [
       "<Figure size 432x288 with 1 Axes>"
      ]
     },
     "metadata": {
      "needs_background": "light"
     },
     "output_type": "display_data"
    }
   ],
   "source": [
    "\n",
    "plt.scatter(cell1_responses[target_trials], y[target_trials], s=10, color='red', label=f\"angle={target_orientation}\")\n",
    "plt.scatter(cell1_responses[~target_trials], y[~target_trials], s=10, color='blue', label=\"other angles\")\n",
    "plt.xlabel(f'Cell {cells_index[0]} Response')\n",
    "plt.ylabel(f\"y (angle={target_orientation})\")\n",
    "\n",
    "plt.axvline(x_cutoff, color='black')\n",
    "\n",
    "# use predict_proba to add a plot of the probabilities for a range of x-values\n",
    "n = 50\n",
    "xx = np.linspace(cell1_responses.min(), cell1_responses.max(), n)\n",
    "probs = model.predict_proba(xx[:,None])[:, 1]\n",
    "plt.plot(xx, probs, ':')\n",
    "\n",
    "plt.show()"
   ]
  },
  {
   "cell_type": "markdown",
   "metadata": {},
   "source": [
    "### Classification in 2 dimensions\n",
    "\n",
    "We can add a second cell and fit as before, then visualize this case also, in two dimensions."
   ]
  },
  {
   "cell_type": "code",
   "execution_count": 13,
   "metadata": {},
   "outputs": [
    {
     "data": {
      "text/plain": [
       "0.8739495798319328"
      ]
     },
     "execution_count": 13,
     "metadata": {},
     "output_type": "execute_result"
    }
   ],
   "source": [
    "# redefine X to include both cells\n",
    "cells_index = cells\n",
    "X = selected_responses.loc[:, cells_index]\n",
    "\n",
    "# Fit the model\n",
    "model.fit(X, y)\n",
    "model.score(X, y)"
   ]
  },
  {
   "cell_type": "code",
   "execution_count": 14,
   "metadata": {},
   "outputs": [
    {
     "data": {
      "image/png": "[encoded data removed]",
      "text/plain": [
       "<Figure size 432x288 with 2 Axes>"
      ]
     },
     "metadata": {
      "needs_background": "light"
     },
     "output_type": "display_data"
    }
   ],
   "source": [
    "# There is a built-in function to visualize the classifier boundary and probabilities\n",
    "from sklearn.inspection import DecisionBoundaryDisplay\n",
    "\n",
    "DecisionBoundaryDisplay.from_estimator(\n",
    "    model,\n",
    "    X,\n",
    "    plot_method=\"pcolormesh\",\n",
    "    response_method=\"predict_proba\",\n",
    "    ax=plt.gca(),\n",
    "    cmap=\"coolwarm\",\n",
    "    vmin=0,\n",
    "    vmax=1,\n",
    "    alpha=0.5,\n",
    "    shading=\"auto\",\n",
    "    eps=0.01,\n",
    ")\n",
    "\n",
    "cell1_responses = selected_responses.loc[:, cells_index[0]]\n",
    "cell2_responses = selected_responses.loc[:, cells_index[1]]\n",
    "plt.scatter(cell1_responses, cell2_responses, s=10, c=y, cmap=\"coolwarm\")\n",
    "plt.xlabel(f\"Cell {cells_index[0]} Response\")\n",
    "plt.ylabel(f\"Cell {cells_index[1]} Response\")\n",
    "\n",
    "plt.colorbar(label=f\"Probability of angle={target_orientation}\")\n",
    "plt.show()"
   ]
  },
  {
   "cell_type": "markdown",
   "metadata": {},
   "source": [
    "### 2D Visualization details"
   ]
  },
  {
   "cell_type": "code",
   "execution_count": 15,
   "metadata": {},
   "outputs": [
    {
     "data": {
      "image/png": "[encoded data removed]",
      "text/plain": [
       "<Figure size 432x288 with 1 Axes>"
      ]
     },
     "metadata": {
      "needs_background": "light"
     },
     "output_type": "display_data"
    }
   ],
   "source": [
    "# first create a scatter plot of the two cells' responses colored by y\n",
    "# with 'true' responses in red and 'false' in blue\n",
    "cell1_responses = selected_responses.loc[:, cells_index[0]]\n",
    "cell2_responses = selected_responses.loc[:, cells_index[1]]\n",
    "target_trials = y.astype(bool)\n",
    "plt.scatter(cell1_responses[target_trials], cell2_responses[target_trials], s=10, color='red', label=f\"angle={target_orientation}\")\n",
    "plt.scatter(cell1_responses[~target_trials], cell2_responses[~target_trials], s=10, color='blue', label=\"other angles\")\n",
    "plt.xlabel(f'Cell {cells_index[0]} Response')\n",
    "plt.ylabel(f'Cell {cells_index[1]} Response')\n",
    "\n",
    "\n",
    "# pull the coefficient parameters k out of the classifier\n",
    "k = model.coef_[0]\n",
    "C = model.intercept_\n",
    "\n",
    "# pick evenly spaced x-values to plot the classifier boundary line\n",
    "n = 10\n",
    "x_line = np.linspace(cell1_responses.min(), cell1_responses.max(), n)\n",
    "\n",
    "# calculate the y-values of the classifier boundary line using the equation above\n",
    "y_line = (-C - k[0] * x_line) / k[1]\n",
    "plt.plot(x_line, y_line, ':', label=\"classifier boundary\")\n",
    "\n",
    "# adjust the plot bounds with plt.ylim\n",
    "plt.ylim(cell2_responses.min(), cell2_responses.max())\n",
    "\n",
    "plt.legend()\n",
    "plt.show()"
   ]
  },
  {
   "cell_type": "code",
   "execution_count": 16,
   "metadata": {},
   "outputs": [
    {
     "data": {
      "image/png": "[encoded data removed]",
      "text/plain": [
       "<Figure size 432x288 with 2 Axes>"
      ]
     },
     "metadata": {
      "needs_background": "light"
     },
     "output_type": "display_data"
    }
   ],
   "source": [
    "# the coolwarm colormap is nice for probabilities, mapping values between 0 and 1 to colors from blue to red\n",
    "cmap = plt.cm.coolwarm\n",
    "# we can use this colormap to color our response scatterplot by the binary targets y\n",
    "\n",
    "# pass evenly spaced x and y coordinates to np.meshgrid to create a grid\n",
    "n = 50\n",
    "xx = np.linspace(cell1_responses.min(), cell1_responses.max(), n)\n",
    "yy = np.linspace(cell2_responses.min(), cell2_responses.max(), n)\n",
    "xgrid, ygrid = np.meshgrid(xx, yy)\n",
    "\n",
    "# flatten and stack these lists to create a X matrix to pass to model.predict_proba\n",
    "Xgrid = np.vstack([xgrid.flatten(), ygrid.flatten()]).T\n",
    "probs = model.predict_proba(Xgrid)[:, 1]\n",
    "\n",
    "# reshape the probabilities to fit the shape of the grid\n",
    "probs_grid = probs.reshape(n, n)\n",
    "plt.pcolormesh(xgrid, ygrid, probs_grid, cmap=cmap, alpha=0.5, shading='auto')\n",
    "\n",
    "# finally, copy the code for our response scatter plot to overlay it here\n",
    "plt.scatter(cell1_responses, cell2_responses, s=10, c=y, cmap='coolwarm')\n",
    "plt.plot(x_line, y_line, ':', label=\"classifier boundary\")\n",
    "plt.xlabel(f'Cell {cells_index[0]} Response')\n",
    "plt.ylabel(f'Cell {cells_index[1]} Response')\n",
    "\n",
    "# and add a colorbar for the probabilities\n",
    "plt.colorbar(label=f'Probability of angle={target_orientation}')\n",
    "plt.show()"
   ]
  },
  {
   "cell_type": "markdown",
   "metadata": {},
   "source": [
    "### Exercise: training with \"class imbalance\"\n",
    "**TODO: reword this if keeping**\n",
    "\n",
    "You might notice that the plots above have quite a few false negatives (red points on the wrong side of the boundary) - this is because it was trained with many more 'false' samples than 'true' samples. One way to fix this is creating the classifier with the option `LogisticRegression(class_weight='balanced')`. Try rerunning the above cells with this option."
   ]
  },
  {
   "cell_type": "markdown",
   "metadata": {},
   "source": [
    "## Predicting all orientations\n",
    "\n",
    "We can also use the `LogisticRegression` classifier to predict which of the 8 orientations a response comes from. This involves a mathematical model for the probability of each class/orientation, which are then compared for a final prediction. Scikit-learn makes this very easy, adapting the model to do this in the background if we simply pass a *categorical* rather than *binary* target variable `y`."
   ]
  },
  {
   "cell_type": "code",
   "execution_count": 17,
   "metadata": {},
   "outputs": [
    {
     "data": {
      "text/plain": [
       "0.2689075630252101"
      ]
     },
     "execution_count": 17,
     "metadata": {},
     "output_type": "execute_result"
    }
   ],
   "source": [
    "# Ex: \n",
    "# redefine y to include all orientations, fit, and find the model accuracy score\n",
    "# Hint: you can actually use the column directly from the dataframe (or convert to an array)\n",
    "X = selected_responses.loc[:, cells_index]\n",
    "y = stim_table.loc[selected_sweeps, 'orientation']\n",
    "model.fit(X, y)\n",
    "model.score(X, y)"
   ]
  },
  {
   "cell_type": "code",
   "execution_count": 18,
   "metadata": {},
   "outputs": [
    {
     "data": {
      "image/png": "[encoded data removed]",
      "text/plain": [
       "<Figure size 432x288 with 1 Axes>"
      ]
     },
     "metadata": {
      "needs_background": "light"
     },
     "output_type": "display_data"
    }
   ],
   "source": [
    "# TODO: used to assess cell choices - keep or remove?\n",
    "plt.scatter(*X.values.T, s=10, c=y, cmap='tab10')\n",
    "plt.show()"
   ]
  },
  {
   "cell_type": "markdown",
   "metadata": {},
   "source": [
    "This is not very good, as expected - two cells can only tell us so much. However, sklearn makes it very easy to train on all recorded cells in the session together!"
   ]
  },
  {
   "cell_type": "code",
   "execution_count": 19,
   "metadata": {},
   "outputs": [
    {
     "data": {
      "text/plain": [
       "1.0"
      ]
     },
     "execution_count": 19,
     "metadata": {},
     "output_type": "execute_result"
    }
   ],
   "source": [
    "# Ex: \n",
    "# redefine X to include all cells, fit, and find the model accuracy score\n",
    "X = selected_responses\n",
    "y = stim_table.loc[selected_sweeps, 'orientation']\n",
    "# We need to adjust the model here for this more complex setting\n",
    "model = LogisticRegression(max_iter=10000)\n",
    "\n",
    "model.fit(X, y)\n",
    "model.score(X, y)"
   ]
  },
  {
   "cell_type": "markdown",
   "metadata": {},
   "source": [
    "Discuss: Does anything seem odd to you about this result? Let's discuss why this may not be as perfect as it seems."
   ]
  },
  {
   "cell_type": "markdown",
   "metadata": {},
   "source": [
    "## Splitting training and test data\n",
    "\n",
    "Our ultimate goal is a model that captures **true** patterns in the data, but what does \"true\" mean here? One way of resolving this scientifically would be to experiment: generate more data from the same cells and see if the same patterns are present (if the estimator can predict the stimuli well on the new data). Practically, we can't usually repeat experiments like this, but we can instead hide some of the existing data during the *fit* step and use it only to predict and evaluate. We call the fit data the training dataset, and the hidden data the test dataset.\n",
    "\n",
    "Sklearn has a method to shuffle the data (across trials) and make this split randomly `train_test_split`.\n",
    "\n",
    "Discuss: Why might shuffling be important here?"
   ]
  },
  {
   "cell_type": "code",
   "execution_count": 20,
   "metadata": {},
   "outputs": [],
   "source": [
    "# this introduces randomness, so set the random 'seed' for reproducibility\n",
    "np.random.seed(5)"
   ]
  },
  {
   "cell_type": "code",
   "execution_count": 21,
   "metadata": {},
   "outputs": [],
   "source": [
    "from sklearn.model_selection import train_test_split\n",
    "\n",
    "X_train, X_test, y_train, y_test = train_test_split(X, y, stratify=y, test_size=0.25)\n"
   ]
  },
  {
   "cell_type": "code",
   "execution_count": 22,
   "metadata": {},
   "outputs": [
    {
     "data": {
      "text/plain": [
       "0.7"
      ]
     },
     "execution_count": 22,
     "metadata": {},
     "output_type": "execute_result"
    }
   ],
   "source": [
    "# Ex:\n",
    "# Fit the model on the training data, predict the binary indicator for the test data, and calculate the accuracy\n",
    "model.fit(X_train, y_train)\n",
    "model.score(X_test, y_test)\n"
   ]
  },
  {
   "cell_type": "markdown",
   "metadata": {},
   "source": [
    "## Viewing the confusion matrix"
   ]
  },
  {
   "cell_type": "markdown",
   "metadata": {},
   "source": [
    "Let's also visualize a confusion matrix of the pattern of errors. Sklearn has a built-in method for this - try out the function `sklearn.metrics.ConfusionMatrixDisplay.from_estimator()`"
   ]
  },
  {
   "cell_type": "code",
   "execution_count": 23,
   "metadata": {},
   "outputs": [
    {
     "data": {
      "image/png": "[encoded data removed]",
      "text/plain": [
       "<Figure size 432x288 with 2 Axes>"
      ]
     },
     "metadata": {
      "needs_background": "light"
     },
     "output_type": "display_data"
    }
   ],
   "source": [
    "from sklearn.metrics import ConfusionMatrixDisplay\n",
    "\n",
    "cm_display = ConfusionMatrixDisplay.from_estimator(model, X_test, y_test)"
   ]
  },
  {
   "cell_type": "markdown",
   "metadata": {},
   "source": [
    "### Fitting with all temporal frequencies\n",
    "\n",
    "It's hard to tell if there is a pattern in the above confusion matrix because there are not many trials to plot in our test set. Let's try adding back in the other trials."
   ]
  },
  {
   "cell_type": "code",
   "execution_count": 24,
   "metadata": {},
   "outputs": [
    {
     "data": {
      "text/plain": [
       "0.68"
      ]
     },
     "execution_count": 24,
     "metadata": {},
     "output_type": "execute_result"
    }
   ],
   "source": [
    "X = mean_sweep_response\n",
    "y = stim_table['orientation']\n",
    "X_train, X_test, y_train, y_test = train_test_split(X, y, stratify=y, test_size=0.25)\n",
    "\n",
    "model.fit(X_train, y_train)\n",
    "model.score(X_test, y_test)\n"
   ]
  },
  {
   "cell_type": "code",
   "execution_count": 25,
   "metadata": {},
   "outputs": [
    {
     "data": {
      "image/png": "[encoded data removed]",
      "text/plain": [
       "<Figure size 432x288 with 2 Axes>"
      ]
     },
     "metadata": {
      "needs_background": "light"
     },
     "output_type": "display_data"
    }
   ],
   "source": [
    "cm_display = ConfusionMatrixDisplay.from_estimator(model, X_test, y_test , normalize=None)"
   ]
  },
  {
   "cell_type": "markdown",
   "metadata": {},
   "source": [
    "In this case, decoding performance is similar, perhaps slightly worse when we include all temporal frequencies. However, the larger test set lets us begin to see a clear pattern to the errors in the confusion matrix plot.\n",
    "\n",
    "Discuss: what do you think this pattern means?"
   ]
  },
  {
   "cell_type": "markdown",
   "metadata": {},
   "source": [
    "### REMOVE: check comparison w/ cross validation"
   ]
  },
  {
   "cell_type": "code",
   "execution_count": 26,
   "metadata": {},
   "outputs": [
    {
     "data": {
      "text/plain": [
       "0.754187675070028"
      ]
     },
     "execution_count": 26,
     "metadata": {},
     "output_type": "execute_result"
    }
   ],
   "source": [
    "from sklearn.model_selection import cross_val_score, KFold\n",
    "\n",
    "cv = KFold(n_splits=5, shuffle=True)\n",
    "# all sweeps\n",
    "X = mean_sweep_response\n",
    "y = stim_table['orientation']\n",
    "cross_val_score(model, X, y, cv=cv).mean()"
   ]
  },
  {
   "cell_type": "code",
   "execution_count": 27,
   "metadata": {},
   "outputs": [
    {
     "data": {
      "text/plain": [
       "0.7478260869565216"
      ]
     },
     "execution_count": 27,
     "metadata": {},
     "output_type": "execute_result"
    }
   ],
   "source": [
    "# good TF sweeps\n",
    "X = mean_sweep_response[selected_sweeps]\n",
    "y = stim_table.loc[selected_sweeps, 'orientation']\n",
    "cross_val_score(model, X, y, cv=cv).mean()"
   ]
  },
  {
   "cell_type": "markdown",
   "metadata": {},
   "source": [
    "## Classifier for both TF & orientation\n",
    "\n",
    "We've seen that decoding can do fairly well with all the data, not knowing about the temporal frequency at all. Is it possible we could increase performance even more by training on both orientation and temporal frequency labels together? A few classifiers in sklearn can function in the *multi-output* context where we pass a 2D matrix of target data instead of a vector. We'll test out one of these, the random forest classifier."
   ]
  },
  {
   "cell_type": "code",
   "execution_count": 28,
   "metadata": {},
   "outputs": [],
   "source": [
    "from sklearn.ensemble import RandomForestClassifier\n",
    "\n",
    "# Ex: Define the target variable and the feature matrix, and run the train_test_split function\n",
    "X = mean_sweep_response\n",
    "Y = stim_table[['temporal_frequency', 'orientation']]\n",
    "X_train, X_test, y_train, y_test = train_test_split(X, Y, stratify=Y, test_size=0.25)\n",
    "\n",
    "# Ex: Create an instance of the Random Forest model, fit the model, and predict the target variable\n",
    "model = RandomForestClassifier()\n",
    "model.fit(X_train, y_train)\n",
    "y_pred = model.predict(X_test)\n"
   ]
  },
  {
   "cell_type": "code",
   "execution_count": 29,
   "metadata": {},
   "outputs": [
    {
     "name": "stdout",
     "output_type": "stream",
     "text": [
      "temporal frequency accuracy:  0.58\n",
      "orientation accuracy:  0.74\n"
     ]
    }
   ],
   "source": [
    "# we can't use model.score in this context, so instead generate a prediction of the target variables,\n",
    "# and evaluate accuracy separately each one, using the accuracy_score function\n",
    "from sklearn.metrics import accuracy_score\n",
    "\n",
    "print(\"temporal frequency accuracy: \", accuracy_score(y_test.values[:,0], y_pred[:,0]))\n",
    "print(\"orientation accuracy: \", accuracy_score(y_test.values[:,1], y_pred[:,1]))"
   ]
  },
  {
   "cell_type": "markdown",
   "metadata": {},
   "source": [
    "This is similar to before, but is it actually better? How much does performance vary run to run? As implied in the name, the random forest classifier has an element of randomness in its performance.\n",
    "\n",
    "We should also compare to the same classifier's performance on orientation data only."
   ]
  },
  {
   "cell_type": "code",
   "execution_count": 30,
   "metadata": {},
   "outputs": [
    {
     "data": {
      "text/plain": [
       "0.7733333333333333"
      ]
     },
     "execution_count": 30,
     "metadata": {},
     "output_type": "execute_result"
    }
   ],
   "source": [
    "# Ex: repeat the above process with orientation data only in Y\n",
    "X = mean_sweep_response\n",
    "Y = stim_table['orientation']\n",
    "X_train, X_test, y_train, y_test = train_test_split(X, Y, stratify=Y, test_size=0.25)\n",
    "\n",
    "\n",
    "model.fit(X_train, y_train)\n",
    "model.score(X_test, y_test)\n"
   ]
  },
  {
   "cell_type": "markdown",
   "metadata": {},
   "source": [
    "## Extra: using cross-validation to get better estimates of accuracy"
   ]
  },
  {
   "cell_type": "code",
   "execution_count": 31,
   "metadata": {},
   "outputs": [
    {
     "name": "stdout",
     "output_type": "stream",
     "text": [
      "accuracy:  0.7575250836120402\n"
     ]
    }
   ],
   "source": [
    "from sklearn.model_selection import cross_val_predict, KFold\n",
    "\n",
    "cv = KFold(n_splits=5, shuffle=True)\n",
    "\n",
    "# Ex: Calculate the cross-validated accuracy of the model\n",
    "y_pred = cross_val_predict(model, X, Y, cv=cv)\n",
    "print(\"accuracy: \", accuracy_score(Y, y_pred))"
   ]
  },
  {
   "cell_type": "code",
   "execution_count": 32,
   "metadata": {},
   "outputs": [
    {
     "name": "stdout",
     "output_type": "stream",
     "text": [
      "temporal frequency accuracy:  0.5501672240802675\n",
      "orientation accuracy:  0.782608695652174\n"
     ]
    }
   ],
   "source": [
    "Y = stim_table[['temporal_frequency', 'orientation']]\n",
    "\n",
    "y_pred = cross_val_predict(model, X, Y, cv=cv)\n",
    "print(\"temporal frequency accuracy: \", accuracy_score(Y.values[:,0], y_pred[:,0]))\n",
    "print(\"orientation accuracy: \", accuracy_score(Y.values[:,1], y_pred[:,1]))"
   ]
  },
  {
   "cell_type": "markdown",
   "metadata": {},
   "source": [
    "## Exercise: train a classifier on natural image responses"
   ]
  },
  {
   "cell_type": "code",
   "execution_count": 43,
   "metadata": {},
   "outputs": [
    {
     "data": {
      "text/html": [
       "<div>\n",
       "<style scoped>\n",
       "    .dataframe tbody tr th:only-of-type {\n",
       "        vertical-align: middle;\n",
       "    }\n",
       "\n",
       "    .dataframe tbody tr th {\n",
       "        vertical-align: top;\n",
       "    }\n",
       "\n",
       "    .dataframe thead th {\n",
       "        text-align: right;\n",
       "    }\n",
       "</style>\n",
       "<table border=\"1\" class=\"dataframe\">\n",
       "  <thead>\n",
       "    <tr style=\"text-align: right;\">\n",
       "      <th></th>\n",
       "      <th>frame</th>\n",
       "      <th>start</th>\n",
       "      <th>end</th>\n",
       "    </tr>\n",
       "  </thead>\n",
       "  <tbody>\n",
       "    <tr>\n",
       "      <th>0</th>\n",
       "      <td>2</td>\n",
       "      <td>16098</td>\n",
       "      <td>16105</td>\n",
       "    </tr>\n",
       "    <tr>\n",
       "      <th>1</th>\n",
       "      <td>107</td>\n",
       "      <td>16106</td>\n",
       "      <td>16113</td>\n",
       "    </tr>\n",
       "    <tr>\n",
       "      <th>2</th>\n",
       "      <td>54</td>\n",
       "      <td>16114</td>\n",
       "      <td>16121</td>\n",
       "    </tr>\n",
       "    <tr>\n",
       "      <th>3</th>\n",
       "      <td>53</td>\n",
       "      <td>16121</td>\n",
       "      <td>16128</td>\n",
       "    </tr>\n",
       "    <tr>\n",
       "      <th>4</th>\n",
       "      <td>41</td>\n",
       "      <td>16129</td>\n",
       "      <td>16136</td>\n",
       "    </tr>\n",
       "  </tbody>\n",
       "</table>\n",
       "</div>"
      ],
      "text/plain": [
       "   frame  start    end\n",
       "0      2  16098  16105\n",
       "1    107  16106  16113\n",
       "2     54  16114  16121\n",
       "3     53  16121  16128\n",
       "4     41  16129  16136"
      ]
     },
     "execution_count": 43,
     "metadata": {},
     "output_type": "execute_result"
    }
   ],
   "source": [
    "# find the dataset and stim table for natural scenes for the same cells\n",
    "exps = boc.get_ophys_experiments(cell_specimen_ids=[cell1_id], stimuli=['natural_scenes'])\n",
    "session_id = exps[0]['id']\n",
    "data_set_ns = boc.get_ophys_experiment_data(session_id)\n",
    "\n",
    "stim_table_ns = data_set_ns.get_stimulus_table(\"natural_scenes\")\n",
    "stim_table_ns.head()"
   ]
  },
  {
   "cell_type": "code",
   "execution_count": 36,
   "metadata": {},
   "outputs": [
    {
     "data": {
      "text/plain": [
       "frame\n",
       "2      50\n",
       "108    50\n",
       "3      50\n",
       "96     50\n",
       "85     50\n",
       "       ..\n",
       "11     50\n",
       "22     50\n",
       "45     50\n",
       "94     50\n",
       "44     50\n",
       "Name: count, Length: 119, dtype: int64"
      ]
     },
     "execution_count": 36,
     "metadata": {},
     "output_type": "execute_result"
    }
   ],
   "source": [
    "# how many times is each stimulus presented?\n",
    "stim_table_ns[\"frame\"].value_counts()"
   ]
  },
  {
   "cell_type": "code",
   "execution_count": 55,
   "metadata": {},
   "outputs": [],
   "source": [
    "# choose a handful of images and subset the stim table to just the relevant trials\n",
    "images = [0, 13, 15, 18, 32]\n",
    "images = [13, 15, 18]\n",
    "sweeps = stim_table_ns[stim_table_ns[\"frame\"].isin(images)]"
   ]
  },
  {
   "cell_type": "code",
   "execution_count": 75,
   "metadata": {},
   "outputs": [],
   "source": [
    "# make your code from above into a function to calculate the mean sweep response\n",
    "import pandas as pd\n",
    "def get_mean_sweep_response(dff, stim_table):\n",
    "    all_cells_index = range(dff.shape[0])\n",
    "    mean_sweep_response = pd.DataFrame(index=stim_table.index, columns=all_cells_index)\n",
    "\n",
    "    for trial in stim_table.index:\n",
    "        mean_sweep_response.loc[trial, :] = dff[\n",
    "            :, stim_table.loc[trial, \"start\"] : stim_table.loc[trial, \"end\"]\n",
    "        ].mean(axis=1)\n",
    "    # Normalize\n",
    "    X = mean_sweep_response.values.astype(float)\n",
    "    X = (X - X.mean(axis=1, keepdims=True)) / X.std(axis=1, keepdims=True)\n",
    "    # from sklearn.preprocessing import scale\n",
    "    # X = scale(X)\n",
    "    return X\n",
    "\n",
    "# then run it on the natural scenes data\n",
    "timestamps, dff = data_set_ns.get_dff_traces()\n",
    "response = get_mean_sweep_response(dff, sweeps)"
   ]
  },
  {
   "cell_type": "code",
   "execution_count": 81,
   "metadata": {},
   "outputs": [
    {
     "data": {
      "image/png": "[encoded data removed]",
      "text/plain": [
       "<Figure size 432x288 with 1 Axes>"
      ]
     },
     "metadata": {
      "needs_background": "light"
     },
     "output_type": "display_data"
    }
   ],
   "source": [
    "# define X and y for responses of the pair of cells,\n",
    "# then plot the responses colored by the image frame\n",
    "# the cell indices may be different in this new session/dataset\n",
    "cells = data_set_ns.get_cell_specimen_indices([cell1_id, cell2_id])\n",
    "# X = response[cells].values\n",
    "X = response[:, cells]\n",
    "y = sweeps[\"frame\"]\n",
    "\n",
    "for value in y.unique():\n",
    "    subset = y == value\n",
    "    plt.scatter(X[subset, 0], X[subset, 1], s=10, label=value)\n",
    "plt.legend()\n",
    "plt.show()\n"
   ]
  },
  {
   "cell_type": "code",
   "execution_count": 82,
   "metadata": {},
   "outputs": [
    {
     "data": {
      "text/plain": [
       "0.3684210526315789"
      ]
     },
     "execution_count": 82,
     "metadata": {},
     "output_type": "execute_result"
    }
   ],
   "source": [
    "# define X and y for the population of cells, split train and test data,\n",
    "# then fit and score a logistic regression classifier and plot the confusion matrix\n",
    "X = response\n",
    "X_train, X_test, y_train, y_test = train_test_split(X, y, stratify=y, test_size=0.25)\n",
    "\n",
    "model = LogisticRegression(max_iter=10000)\n",
    "model.fit(X_train, y_train)\n",
    "model.score(X_test, y_test)\n",
    "# model.score(X_train, y_train)\n"
   ]
  },
  {
   "cell_type": "code",
   "execution_count": 80,
   "metadata": {},
   "outputs": [
    {
     "data": {
      "image/png": "[encoded data removed]",
      "text/plain": [
       "<Figure size 432x288 with 2 Axes>"
      ]
     },
     "metadata": {
      "needs_background": "light"
     },
     "output_type": "display_data"
    }
   ],
   "source": [
    "cm_display = ConfusionMatrixDisplay.from_estimator(model, X_test, y_test , normalize=None)"
   ]
  },
  {
   "cell_type": "code",
   "execution_count": null,
   "metadata": {},
   "outputs": [],
   "source": []
  }
 ],
 "metadata": {
  "kernelspec": {
   "display_name": "base",
   "language": "python",
   "name": "python3"
  },
  "language_info": {
   "name": "python",
   "version": "3.8.5 (default, Sep  4 2020, 07:30:14) \n[GCC 7.3.0]"
  },
  "vscode": {
   "interpreter": {
    "hash": "d4d1e4263499bec80672ea0156c357c1ee493ec2b1c70f0acce89fc37c4a6abe"
   }
  }
 },
 "nbformat": 4,
 "nbformat_minor": 2
}
