{
 "cells": [
  {
   "cell_type": "markdown",
   "metadata": {},
   "source": [
    "## ** To be integrated with other notebook?"
   ]
  },
  {
   "cell_type": "code",
   "execution_count": null,
   "metadata": {},
   "outputs": [],
   "source": [
    "\n",
    "import matplotlib.pyplot as plt\n",
    "import numpy as np\n",
    "%matplotlib inline\n"
   ]
  },
  {
   "cell_type": "code",
   "execution_count": 2,
   "metadata": {},
   "outputs": [],
   "source": [
    "from allensdk.brain_observatory.drifting_gratings import DriftingGratings\n",
    "from allensdk.core.brain_observatory_cache import BrainObservatoryCache\n",
    "\n",
    "manifest_file = '../data/allen-brain-observatory/visual-coding-2p/manifest.json'\n",
    "boc = BrainObservatoryCache(manifest_file=manifest_file)"
   ]
  },
  {
   "cell_type": "code",
   "execution_count": 3,
   "metadata": {},
   "outputs": [],
   "source": [
    "cell1_id = 541513979\n",
    "exps = boc.get_ophys_experiments(cell_specimen_ids=[cell1_id], stimuli=['drifting_gratings'])\n",
    "session_id = exps[0]['id']\n",
    "data_set = boc.get_ophys_experiment_data(session_id)\n",
    "\n",
    "cell2_id = 541513083\n",
    "cells = data_set.get_cell_specimen_indices([cell1_id, cell2_id])"
   ]
  },
  {
   "cell_type": "code",
   "execution_count": 4,
   "metadata": {},
   "outputs": [],
   "source": [
    "dg = DriftingGratings(data_set)"
   ]
  },
  {
   "cell_type": "code",
   "execution_count": 5,
   "metadata": {},
   "outputs": [],
   "source": [
    "\n",
    "mean_sweep_response = dg.mean_sweep_response\n",
    "mean_sweep_response = mean_sweep_response.drop(columns=['dx'])\n",
    "mean_sweep_response.columns = mean_sweep_response.columns.astype(int)\n",
    "\n",
    "stim_table = dg.stim_table\n",
    "mean_sweep_response = mean_sweep_response[stim_table['blank_sweep'] == False]\n",
    "stim_table = stim_table[stim_table['blank_sweep'] == False]"
   ]
  },
  {
   "cell_type": "markdown",
   "metadata": {},
   "source": [
    "To understand the responses of the *population* of cells in this session, we'll first simplify things by isolating the stimuli for a particular temporal frequency."
   ]
  },
  {
   "cell_type": "code",
   "execution_count": 6,
   "metadata": {},
   "outputs": [],
   "source": [
    "# Ex:\n",
    "# Use the information in the stimulus table to select a subset of responses at a particular temporal frequency\n",
    "\n",
    "selected_sweeps = (stim_table['temporal_frequency'] == 2.0)\n",
    "selected_responses = mean_sweep_response[selected_sweeps]"
   ]
  },
  {
   "cell_type": "markdown",
   "metadata": {},
   "source": [
    "## Decoding as classification of neural responses\n",
    "\n",
    "We are going to use some basic machine learning to solve a *classification* problem based on this data: given the responses of a set of cells on a given trial (start with two), can we predict the stimulus orientation of that trial? \n",
    "\n",
    "We'll start by simplifying to a *binary classification*, predicting whether the orientation is 0 versus any other orientation.\n",
    "\n",
    "The conventional notation for this type of problem is to represent the data feature matrix by a variable `X` (capital to indicate a 2D matrix, with each column a distinct feature and each row a sample) and the target data by a variable `y` (lowercase to indicate a 1D vector). We'll first initialize these variables.\n",
    "\n"
   ]
  },
  {
   "cell_type": "code",
   "execution_count": 31,
   "metadata": {},
   "outputs": [
    {
     "data": {
      "text/plain": [
       "(120, 2)"
      ]
     },
     "execution_count": 31,
     "metadata": {},
     "output_type": "execute_result"
    }
   ],
   "source": [
    "cells_index = [5, 30]\n",
    "# Create a binary indicator for orientation == 0\n",
    "y = (stim_table.loc[selected_sweeps, 'orientation'] == 0).astype(int)\n",
    "X = selected_responses.loc[:, cells_index]\n",
    "X.shape"
   ]
  },
  {
   "cell_type": "markdown",
   "metadata": {},
   "source": [
    "## Fitting and prediction in scikit-learn\n",
    "\n",
    "We'll use the package scikit-learn (sklearn), which is a popular and powerful machine learning package in Python. One strength of this package is a simple interface (pattern of use) for a variety of different machine learning tools, or *estimators*. It follows an *object-oriented* approach - each estimator is a Python class which must first be initialized, then passed data to fit and make predictions from.\n",
    "\n",
    "This pattern can be used for different types of problems: *classification* when the target is categorical, *regression* when the target is continuous, or even *unsupervised* problems where there is no target data to train on. Chains of estimators can even be combined into *pipelines* that can be used in the same way. "
   ]
  },
  {
   "cell_type": "code",
   "execution_count": 32,
   "metadata": {},
   "outputs": [],
   "source": [
    "from sklearn.linear_model import LogisticRegression\n",
    "# Create an instance of the Logistic Regression model\n",
    "model = LogisticRegression()\n",
    "\n",
    "# Fit the model\n",
    "model.fit(X, y)\n",
    "\n",
    "# Predict the target variable \n",
    "y_pred = model.predict(X)\n"
   ]
  },
  {
   "cell_type": "code",
   "execution_count": 33,
   "metadata": {},
   "outputs": [
    {
     "name": "stdout",
     "output_type": "stream",
     "text": [
      "0.8833333333333333\n"
     ]
    }
   ],
   "source": [
    "# Ex:\n",
    "# Calculate the accuracy of the model (on what percent of trials does the prediction match the target)\n",
    "accuracy = (y == y_pred).mean()\n",
    "print(accuracy)"
   ]
  },
  {
   "cell_type": "markdown",
   "metadata": {},
   "source": [
    "## Visualizing the model predictions\n",
    "\n",
    "The classifier we chose has the advantage of a fairly simple mathematical formulation, allowing us to interpret how it makes its predictions. It is a *linear* classifier, meaning the prediction is given by $y = f(k_0 \\cdot x_0 + k_1 \\cdot x_1 + \\dots)$. The function used is the *logistic function* shown in the plot below:\n",
    "\n",
    "![logistic curve](images/Logistic-curve.svg)\n",
    "\n",
    "The output of this function (which we can get from `model.predict_proba(X)`) can be interpreted as the probability that the input is classified as true (the trial has orientation 0). The points on the line $C = k_0 \\cdot x_0 + k_1 \\cdot x_1 + \\dots$ thus form a contour of constant probability. If we plot these lines with increasing values of *C* we can visualize how the model probabilities increase across the input space, and overlay this on our two-cell response plot."
   ]
  },
  {
   "cell_type": "code",
   "execution_count": 45,
   "metadata": {},
   "outputs": [
    {
     "data": {
      "image/png": "[encoded data removed]",
      "text/html": [
       "<div style=\"vertical-align: middle;\"><strong>coolwarm</strong> </div><div class=\"cmap\"><img alt=\"coolwarm colormap\" title=\"coolwarm\" style=\"border: 1px solid #555;\" src=\"data:image/png;base64,iVBORw0KGgoAAAANSUhEUgAAAgAAAABACAYAAABsv8+/AAAAF3RFWHRUaXRsZQBjb29sd2FybSBjb2xvcm1hcPHW9i4AAAAddEVYdERlc2NyaXB0aW9uAGNvb2x3YXJtIGNvbG9ybWFw2KgRBwAAADB0RVh0QXV0aG9yAE1hdHBsb3RsaWIgdjMuNC4yLCBodHRwczovL21hdHBsb3RsaWIub3JnrNZj3QAAADJ0RVh0U29mdHdhcmUATWF0cGxvdGxpYiB2My40LjIsIGh0dHBzOi8vbWF0cGxvdGxpYi5vcmeCcPz6AAACIUlEQVR4nO3WO3LbQBBF0QaW5TV40d6XTIwTCCo2MQQYOHrnJKr5NRip7vLr959RVbUsS1VVLetaVVXr+rzu50s7X2fnt+cu+/n5/nF+8Z315buz9/3310fzXvfrfP73nOn8mnzv+f7xfva9/bzPu9w/vnM+b36v3t+72J/fGxfvx739mt1v82tyXv13jPO5x7175y/fm53f3F/7fm333vf7o+2P7cP18371e+P9nOrvR/995/e+59ZkPZ17rN/fO+Zufe75vdr67znfv3o3tnv3Lt/t69HW3+fH/Zc579+/rLc2r82fzevf7/ePv+Pq3uTdf9rfHu/v/5y3e/v+1uc/tud3j8m84/0+72tf/x2frb+e/18BAEEEAAAEEgAAEEgAAEAgAQAAgQQAAAQSAAAQSAAAQCABAACBBAAABBIAABBIAABAIAEAAIEEAAAEEgAAEEgAAEAgAQAAgQQAAAQSAAAQSAAAQCABAACBBAAABBIAABBIAABAIAEAAIEEAAAEEgAAEEgAAEAgAQAAgQQAAAQSAAAQSAAAQCABAACBBAAABBIAABBIAABAIAEAAIEEAAAEEgAAEEgAAEAgAQAAgQQAAAQSAAAQSAAAQCABAACBBAAABBIAABBIAABAIAEAAIEEAAAEEgAAEEgAAEAgAQAAgQQAAAQSAAAQSAAAQCABAACBBAAABBIAABBIAABAIAEAAIEEAAAEEgAAEOgf6GZUalYlbg8AAAAASUVORK5CYII=\"></div><div style=\"vertical-align: middle; max-width: 514px; display: flex; justify-content: space-between;\"><div style=\"float: left;\"><div title=\"#3b4cc0ff\" style=\"display: inline-block; width: 1em; height: 1em; margin: 0; vertical-align: middle; border: 1px solid #555; background-color: #3b4cc0ff;\"></div> under</div><div style=\"margin: 0 auto; display: inline-block;\">bad <div title=\"#00000000\" style=\"display: inline-block; width: 1em; height: 1em; margin: 0; vertical-align: middle; border: 1px solid #555; background-color: #00000000;\"></div></div><div style=\"float: right;\">over <div title=\"#b40426ff\" style=\"display: inline-block; width: 1em; height: 1em; margin: 0; vertical-align: middle; border: 1px solid #555; background-color: #b40426ff;\"></div></div>"
      ],
      "text/plain": [
       "<matplotlib.colors.LinearSegmentedColormap at 0x7ff09236af40>"
      ]
     },
     "execution_count": 45,
     "metadata": {},
     "output_type": "execute_result"
    }
   ],
   "source": [
    "# the coolwarm colormap is nice for probabilities, mapping values between 0 and 1 to colors from blue to red\n",
    "cmap = plt.cm.coolwarm\n",
    "cmap"
   ]
  },
  {
   "cell_type": "code",
   "execution_count": 44,
   "metadata": {},
   "outputs": [
    {
     "data": {
      "image/png": "[encoded data removed]",
      "text/plain": [
       "<Figure size 432x288 with 1 Axes>"
      ]
     },
     "metadata": {
      "needs_background": "light"
     },
     "output_type": "display_data"
    }
   ],
   "source": [
    "# we can use this colormap to color our response scatterplot by the binary targets y\n",
    "cell1_responses = selected_responses.loc[:, cells_index[0]]\n",
    "cell2_responses = selected_responses.loc[:, cells_index[1]]\n",
    "plt.scatter(cell1_responses, cell2_responses, c=y, cmap='coolwarm')\n",
    "plt.xlabel(f'Cell {cells_index[0]} Response')\n",
    "plt.ylabel(f'Cell {cells_index[1]} Response')\n",
    "\n",
    "# Steps to add contours of varying probability from classifier:\n",
    "\n",
    "# pull the coefficient parameters k out of the classifier\n",
    "k = model.coef_[0]\n",
    "\n",
    "# pick a number of lines, and define the x-intercepts of those lines\n",
    "n = 10\n",
    "x_intercepts = np.linspace(cell1_responses.min(), cell1_responses.max(), n)\n",
    "# use these values for the x coordinates of each line also\n",
    "x_line = x_intercepts\n",
    "\n",
    "# for each line, define the y coordinates then plot with colors from cmap \n",
    "for i in range(n):\n",
    "    y_line = (x_intercepts[i] - x_line) * k[0] / k[1]\n",
    "    plt.plot(x_line, y_line, color=cmap(i/n))\n",
    "\n",
    "# adjust the plot bounds with plt.ylim\n",
    "plt.ylim(cell2_responses.min(), cell2_responses.max())\n",
    "\n",
    "plt.show()"
   ]
  },
  {
   "cell_type": "markdown",
   "metadata": {},
   "source": [
    "## Classifying all orientations\n",
    "\n",
    "We can also use the `LogisticRegression` classifier to predict which of the 8 orientations a response comes from. This involves a mathematical model like the one we interpreted above for each class/orientation, which are then compared for a final prediction. However, sklearn hides the details from us so we just need to train as above but with a *categorical* rather than *binary* target variable `y`."
   ]
  },
  {
   "cell_type": "code",
   "execution_count": 12,
   "metadata": {},
   "outputs": [
    {
     "data": {
      "text/plain": [
       "0.2833333333333333"
      ]
     },
     "execution_count": 12,
     "metadata": {},
     "output_type": "execute_result"
    }
   ],
   "source": [
    "# Ex: \n",
    "# redefine y to include all orientations, fit, and find the model accuracy score\n",
    "# Hint: you can actually use the column directly from the dataframe (or convert to an array)\n",
    "y = stim_table.loc[selected_sweeps, 'orientation']\n",
    "model.fit(X, y)\n",
    "model.score(X, y)"
   ]
  },
  {
   "cell_type": "markdown",
   "metadata": {},
   "source": [
    "This is not very good, as expected - two cells can only tell us so much. However, sklearn makes it very easy to train on all recorded cells in the session together!"
   ]
  },
  {
   "cell_type": "code",
   "execution_count": 13,
   "metadata": {},
   "outputs": [
    {
     "name": "stderr",
     "output_type": "stream",
     "text": [
      "/opt/conda/lib/python3.8/site-packages/sklearn/linear_model/_logistic.py:460: ConvergenceWarning: lbfgs failed to converge (status=1):\n",
      "STOP: TOTAL NO. of ITERATIONS REACHED LIMIT.\n",
      "\n",
      "Increase the number of iterations (max_iter) or scale the data as shown in:\n",
      "    https://scikit-learn.org/stable/modules/preprocessing.html\n",
      "Please also refer to the documentation for alternative solver options:\n",
      "    https://scikit-learn.org/stable/modules/linear_model.html#logistic-regression\n",
      "  n_iter_i = _check_optimize_result(\n"
     ]
    },
    {
     "data": {
      "text/plain": [
       "1.0"
      ]
     },
     "execution_count": 13,
     "metadata": {},
     "output_type": "execute_result"
    }
   ],
   "source": [
    "# Ex: \n",
    "# redefine X to include all cells, fit, and find the model accuracy score\n",
    "X = selected_responses\n",
    "model.fit(X, y)\n",
    "model.score(X, y)"
   ]
  },
  {
   "cell_type": "markdown",
   "metadata": {},
   "source": [
    "Discuss: Does anything seem odd to you about this result? Let's discuss why this may not be as perfect as it seems."
   ]
  },
  {
   "cell_type": "markdown",
   "metadata": {},
   "source": [
    "## Splitting training and test data\n",
    "\n",
    "Our ultimate goal is a model that captures **true** patterns in the data, but what does \"true\" mean here? One way of resolving this scientifically would be to experiment: generate more data from the same cells and see if the same patterns are present (if the estimator can predict the stimuli well on the new data). Practically, we can't usually repeat experiments like this, but we can instead hide some of the existing data during the *fit* step and use it only to predict and evaluate. We call the fit data the training dataset, and the hidden data the test dataset.\n",
    "\n",
    "Sklearn has a method to shuffle the data (across trials) and make this split randomly `train_test_split`.\n",
    "\n",
    "Discuss: Why might shuffling be important here?"
   ]
  },
  {
   "cell_type": "code",
   "execution_count": 14,
   "metadata": {},
   "outputs": [],
   "source": [
    "from sklearn.model_selection import train_test_split\n",
    "\n",
    "X_train, X_test, y_train, y_test = train_test_split(X, y, stratify=y, test_size=0.25, random_state=42)\n"
   ]
  },
  {
   "cell_type": "code",
   "execution_count": 15,
   "metadata": {},
   "outputs": [
    {
     "name": "stderr",
     "output_type": "stream",
     "text": [
      "/opt/conda/lib/python3.8/site-packages/sklearn/linear_model/_logistic.py:460: ConvergenceWarning: lbfgs failed to converge (status=1):\n",
      "STOP: TOTAL NO. of ITERATIONS REACHED LIMIT.\n",
      "\n",
      "Increase the number of iterations (max_iter) or scale the data as shown in:\n",
      "    https://scikit-learn.org/stable/modules/preprocessing.html\n",
      "Please also refer to the documentation for alternative solver options:\n",
      "    https://scikit-learn.org/stable/modules/linear_model.html#logistic-regression\n",
      "  n_iter_i = _check_optimize_result(\n"
     ]
    },
    {
     "data": {
      "text/plain": [
       "0.8"
      ]
     },
     "execution_count": 15,
     "metadata": {},
     "output_type": "execute_result"
    }
   ],
   "source": [
    "# Ex:\n",
    "# Fit the model on the training data, predict the binary indicator for the test data, and calculate the accuracy\n",
    "model.fit(X_train, y_train)\n",
    "model.score(X_test, y_test)\n"
   ]
  },
  {
   "cell_type": "markdown",
   "metadata": {},
   "source": [
    "### REMOVE? add preproc to pipeline to remove warning"
   ]
  },
  {
   "cell_type": "markdown",
   "metadata": {},
   "source": [
    "This is not so great - let's pay attention to this warning and add one step to our process to see if we can improve performance"
   ]
  },
  {
   "cell_type": "code",
   "execution_count": 16,
   "metadata": {},
   "outputs": [],
   "source": [
    "from sklearn.pipeline import make_pipeline\n",
    "from sklearn.preprocessing import StandardScaler\n",
    "\n",
    "model = make_pipeline(StandardScaler(), LogisticRegression())"
   ]
  },
  {
   "cell_type": "code",
   "execution_count": 17,
   "metadata": {},
   "outputs": [
    {
     "data": {
      "text/plain": [
       "0.8"
      ]
     },
     "execution_count": 17,
     "metadata": {},
     "output_type": "execute_result"
    }
   ],
   "source": [
    "model.fit(X_train, y_train)\n",
    "model.score(X_test, y_test)\n"
   ]
  },
  {
   "cell_type": "markdown",
   "metadata": {},
   "source": [
    "## Visualizing the pattern of errors"
   ]
  },
  {
   "cell_type": "markdown",
   "metadata": {},
   "source": [
    "Let's also visualize a confusion matrix of the pattern of errors. Sklearn has a built-in method for this - try out the function `ConfusionMatrixDisplay.from_estimator()`"
   ]
  },
  {
   "cell_type": "code",
   "execution_count": 18,
   "metadata": {},
   "outputs": [
    {
     "data": {
      "image/png": "[encoded data removed]",
      "text/plain": [
       "<Figure size 432x288 with 2 Axes>"
      ]
     },
     "metadata": {
      "needs_background": "light"
     },
     "output_type": "display_data"
    }
   ],
   "source": [
    "from sklearn.metrics import ConfusionMatrixDisplay\n",
    "\n",
    "cm_display = ConfusionMatrixDisplay.from_estimator(model, X_test, y_test)"
   ]
  },
  {
   "cell_type": "markdown",
   "metadata": {},
   "source": [
    "### Add trials with other temporal frequencies\n",
    "\n",
    "It's hard to tell if there is a pattern in the above confusion matrix because there are not many trials in our test set, so the numbers to sample from are low. Let's try adding back in the other trials."
   ]
  },
  {
   "cell_type": "code",
   "execution_count": 26,
   "metadata": {},
   "outputs": [
    {
     "data": {
      "text/plain": [
       "0.74"
      ]
     },
     "execution_count": 26,
     "metadata": {},
     "output_type": "execute_result"
    }
   ],
   "source": [
    "X = mean_sweep_response\n",
    "y = stim_table['orientation']\n",
    "X_train, X_test, y_train, y_test = train_test_split(X, y, stratify=y, test_size=0.25, random_state=42)\n",
    "\n",
    "model.fit(X_train, y_train)\n",
    "model.score(X_test, y_test)\n"
   ]
  },
  {
   "cell_type": "code",
   "execution_count": 27,
   "metadata": {},
   "outputs": [
    {
     "data": {
      "image/png": "[encoded data removed]",
      "text/plain": [
       "<Figure size 432x288 with 2 Axes>"
      ]
     },
     "metadata": {
      "needs_background": "light"
     },
     "output_type": "display_data"
    }
   ],
   "source": [
    "# Ex: and visualize a confusion matrix \n",
    "\n",
    "cm_display = ConfusionMatrixDisplay.from_estimator(model, X_test, y_test , normalize=None)"
   ]
  },
  {
   "cell_type": "markdown",
   "metadata": {},
   "source": [
    "In this case, decoding performance seems comparable when we include all temporal frequencies, but the larger test set lets us begin to see a pattern of errors in the confusion matrix plot.\n",
    "\n",
    "Discuss: what do you think this pattern means?"
   ]
  },
  {
   "cell_type": "markdown",
   "metadata": {},
   "source": [
    "## Classifier for both TF & orientation\n",
    "\n",
    "We've seen that decoding can do fairly well with all the data, not knowing about the temporal frequency at all. Is it possible we could increase performance even more by training on both orientation and temporal frequency labels together? A few classifiers in sklearn can function in the *multi-output* context where we pass a 2D matrix of target data instead of a vector. We'll test out one of these, the random forest classifier."
   ]
  },
  {
   "cell_type": "code",
   "execution_count": 21,
   "metadata": {},
   "outputs": [],
   "source": [
    "from sklearn.ensemble import RandomForestClassifier\n",
    "\n",
    "# Ex: Define the target variable and the feature matrix, and run the train_test_split function\n",
    "X = mean_sweep_response\n",
    "Y = stim_table[['temporal_frequency', 'orientation']]\n",
    "X_train, X_test, y_train, y_test = train_test_split(X, Y, stratify=Y, test_size=0.25, random_state=42)\n",
    "\n",
    "# Ex: Create an instance of the Random Forest model, fit the model, and predict the target variable\n",
    "model = RandomForestClassifier()\n",
    "model.fit(X_train, y_train)\n",
    "y_pred = model.predict(X_test)\n"
   ]
  },
  {
   "cell_type": "code",
   "execution_count": 22,
   "metadata": {},
   "outputs": [
    {
     "name": "stdout",
     "output_type": "stream",
     "text": [
      "temporal frequency accuracy:  0.4066666666666667\n",
      "orientation accuracy:  0.7866666666666666\n"
     ]
    }
   ],
   "source": [
    "# we can't use model.score in this context, so instead generate a prediction of the target variables,\n",
    "# and evaluate accuracy separately each one, using the accuracy_score function\n",
    "from sklearn.metrics import accuracy_score\n",
    "\n",
    "print(\"temporal frequency accuracy: \", accuracy_score(y_test.values[:,0], y_pred[:,0]))\n",
    "print(\"orientation accuracy: \", accuracy_score(y_test.values[:,1], y_pred[:,1]))"
   ]
  },
  {
   "cell_type": "markdown",
   "metadata": {},
   "source": [
    "This is similar to before, but is it actually better? How much does performance vary run to run? As implied in the name, the random forest classifier has an element of randomness in its performance.\n",
    "\n",
    "We should also compare to the same classifier's performance on orientation data only."
   ]
  },
  {
   "cell_type": "code",
   "execution_count": 23,
   "metadata": {},
   "outputs": [
    {
     "data": {
      "text/plain": [
       "0.7666666666666667"
      ]
     },
     "execution_count": 23,
     "metadata": {},
     "output_type": "execute_result"
    }
   ],
   "source": [
    "# Ex: repeat the above process with orientation data only in Y\n",
    "X = mean_sweep_response\n",
    "Y = stim_table['orientation']\n",
    "X_train, X_test, y_train, y_test = train_test_split(X, Y, stratify=Y, test_size=0.25, random_state=42)\n",
    "\n",
    "\n",
    "model.fit(X_train, y_train)\n",
    "model.score(X_test, y_test)\n"
   ]
  },
  {
   "cell_type": "markdown",
   "metadata": {},
   "source": [
    "## Extra: using cross-validation to get better estimates of accuracy"
   ]
  },
  {
   "cell_type": "code",
   "execution_count": 24,
   "metadata": {},
   "outputs": [
    {
     "name": "stdout",
     "output_type": "stream",
     "text": [
      "accuracy:  0.7662771285475793\n"
     ]
    }
   ],
   "source": [
    "from sklearn.model_selection import cross_val_predict, KFold\n",
    "\n",
    "cv = KFold(n_splits=5, shuffle=True, random_state=42)\n",
    "\n",
    "# Ex: Calculate the cross-validated accuracy of the model\n",
    "y_pred = cross_val_predict(model, X, Y, cv=cv)\n",
    "print(\"accuracy: \", accuracy_score(Y, y_pred))"
   ]
  },
  {
   "cell_type": "code",
   "execution_count": 25,
   "metadata": {},
   "outputs": [
    {
     "name": "stdout",
     "output_type": "stream",
     "text": [
      "temporal frequency accuracy:  0.3606010016694491\n",
      "orientation accuracy:  0.7579298831385642\n"
     ]
    }
   ],
   "source": [
    "Y = stim_table[['temporal_frequency', 'orientation']]\n",
    "\n",
    "y_pred = cross_val_predict(model, X, Y, cv=cv)\n",
    "print(\"temporal frequency accuracy: \", accuracy_score(Y.values[:,0], y_pred[:,0]))\n",
    "print(\"orientation accuracy: \", accuracy_score(Y.values[:,1], y_pred[:,1]))"
   ]
  },
  {
   "cell_type": "markdown",
   "metadata": {},
   "source": [
    "## Exercise: train a classifier on two natural images"
   ]
  },
  {
   "cell_type": "code",
   "execution_count": 48,
   "metadata": {},
   "outputs": [],
   "source": [
    "from allensdk.brain_observatory.natural_scenes import NaturalScenes"
   ]
  },
  {
   "cell_type": "code",
   "execution_count": 46,
   "metadata": {},
   "outputs": [],
   "source": [
    "cell1_id = 541513979\n",
    "exps = boc.get_ophys_experiments(cell_specimen_ids=[cell1_id], stimuli=['natural_scenes'])\n",
    "session_id = exps[0]['id']\n",
    "data_set = boc.get_ophys_experiment_data(session_id)\n"
   ]
  },
  {
   "cell_type": "code",
   "execution_count": 50,
   "metadata": {},
   "outputs": [],
   "source": [
    "ns = NaturalScenes(data_set)\n",
    "stim_table = ns.stim_table\n",
    "mean_sweep_response = ns.mean_sweep_response"
   ]
  },
  {
   "cell_type": "code",
   "execution_count": null,
   "metadata": {},
   "outputs": [],
   "source": [
    "stim_table.head()"
   ]
  },
  {
   "cell_type": "markdown",
   "metadata": {},
   "source": []
  }
 ],
 "metadata": {
  "kernelspec": {
   "display_name": "base",
   "language": "python",
   "name": "python3"
  },
  "language_info": {
   "name": "python",
   "version": "3.8.5 (default, Sep  4 2020, 07:30:14) \n[GCC 7.3.0]"
  },
  "vscode": {
   "interpreter": {
    "hash": "d4d1e4263499bec80672ea0156c357c1ee493ec2b1c70f0acce89fc37c4a6abe"
   }
  }
 },
 "nbformat": 4,
 "nbformat_minor": 2
}
