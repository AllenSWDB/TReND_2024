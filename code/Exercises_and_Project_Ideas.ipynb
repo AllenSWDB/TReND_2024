{
 "cells": [
  {
   "cell_type": "markdown",
   "id": "6c65a350",
   "metadata": {},
   "source": [
    "![Image](./resources/header.png)\n",
    "<h1 align=\"center\">Further Exercises and Project Ideas</h1> \n",
    "<h3 align=\"center\">TReND CaMinA 2024</h3>"
   ]
  },
  {
   "cell_type": "markdown",
   "id": "1001f1b4",
   "metadata": {},
   "source": [
    "<div style=\"background: #DFF0D8; border-radius: 3px; padding: 10px;\">\n",
    "\n",
    "<h1> Exercise 1:  Comparing single cell metrics </h1>\n",
    "    \n",
    "a. Choose a single cell metric that you are interested in (or a few). Possible metrics are preferred features (e.g. preferred orientation, preferred SF, preferred TF, preferred image), selectivity (e.g. direction selectivity, orientation selectivity, image selectivity, lifetime sparseness), and reliability or variability. \n",
    "\n",
    "b. Compute this metric for all the neurons in an experiment session. What is the distribution of this property across an experiment session?   Plot a histrogram of this value for the cells in a single experiment session.\n",
    "Note: one of the challenges in this is to determine what neurons respond to the stimulus you are computing a metric for. Why does this matter?\n",
    "\n",
    "c. How does this property compare across cortical areas, layers, or Cre-lines?  Create a dataframe that contains neurons across many experiments.  Include the area, the Cre line, the selectivity value, and the depth.  Add a column to the data frame that assigns a layer to each cell according to depth, using the following values:\n",
    "Layer 2/3 < 250\n",
    "Layer 4 250 - 350\n",
    "Layer 5 350 - 500\n",
    "Layer 500+\n",
    "    \n",
    "Add another column that labels each neuron as \"Excitatory\" or \"Inhibitory\".  For reference, the following Cre-lines are Inhibitory: Pvalb, Sst, and Vip.  The remaining are Excitatory.     \n",
    "    \n",
    "d. Using the dataframe you created in part c, make histograms of your metric(s) in each area and layer, and for Excitatory and Inhibitory cells.  Do you see any differences?  \n",
    "\n",
    "e. If you've computed multiple metrics, make scatter plots of these metrics against each other for the neurons in your dataframe.  Label these data points by area, layer, and whether the cells are Excitatory or Inhibitory.\n",
    "    \n",
    "</div>"
   ]
  },
  {
   "cell_type": "code",
   "execution_count": null,
   "id": "c406e0e9",
   "metadata": {},
   "outputs": [],
   "source": []
  },
  {
   "cell_type": "markdown",
   "id": "5246ca0c",
   "metadata": {},
   "source": [
    "<div style=\"background: #DFF0D8; border-radius: 3px; padding: 10px;\">\n",
    "   \n",
    "<h1> Exercise 2: Comparing population responses.</h1>\n",
    "\n",
    "Rather than look at individual neurons, we can also compute metrics to describe features of the population activity.\n",
    "    \n",
    "a. Choose a population metric. Possible options are population spareness, dimensionality, synchrony, mean pair-wise correlations, etc.\n",
    "\n",
    "b. How does this property compare across cortical areas, layers, or Cre-lines?  Create a dataframe that contains populations across many experiments.  Include the area, the Cre line, the selectivity value, and the depth.  Add a column to the data frame that assigns a layer to each cell according to depth, using the following values:\n",
    "Layer 2/3 < 250\n",
    "Layer 4 250 - 350\n",
    "Layer 5 350 - 500\n",
    "Layer 500+\n",
    "    \n",
    "Follow similar steps as in Exercise 1 to compare these metrics across these populations. \n",
    "</div>"
   ]
  },
  {
   "cell_type": "code",
   "execution_count": null,
   "id": "7ba3eb9d",
   "metadata": {},
   "outputs": [],
   "source": []
  },
  {
   "cell_type": "markdown",
   "id": "7d7d5e33",
   "metadata": {},
   "source": [
    "<div style=\"background: #DFF0D8; border-radius: 3px; padding: 10px;\">\n",
    "\n",
    "<h1> Exercise 3:  Predicting neural responses from tuning curves. </h1>\n",
    "    \n",
    "We would like to be able to predict neural responses given a stimulus input.  How well does this work for neurons in our dataset?    \n",
    "\n",
    "First we have to ask what this question means.  We will consider the response to the drifting grating stimulus.  We need a model for neural response, which in this case we will take to be the simple model that the neuron responds with a given level of activity in response to a given stimulus configuration, plus an amount of noise.\n",
    "    \n",
    "We will use the LinearRegression module from scikit-learn for this exercise.  We'll follow a set of steps similar to the example of decoding from the tutorial.\n",
    "    \n",
    "a. First we need to create a \"design matrix\" for the input.  In this case we will use \"one-hot encoding\".  For each presentation of the drifting grating stimulus, we will have 41 conditions.  8 directions * 5 temporal frequencies plus 1 blank sweep.  Assign each one an index.  Using the stimulus table, create a design matrix of shape (number of trials, 41) where each entry is 1 if the stimulus condition on that trial corresponds to that index and is zero otherwise.  \n",
    "    \n",
    "b. Create a LinearRegression instance similar to how we created a LogisticRegression instance in the tutorial.  Fit the model following similar steps, where in the \"inputs\" are given by the design matrix you constructed in part a and the outputs are the neuron's response.  \n",
    "    \n",
    "c. How well does this model work?  Similar to the tutorial, plot the tuning curves at each temporal frequency along with the individual trials.  Compute the \"score\" given by scikit-learn.  Do the neuron's with better scores make sense based on the tuning curve plots?\n",
    "    \n",
    "d. The above gives a \"best case scenario\" for the models, because we fit on all the available data.  A better assessment of the model performance requires testing on data that was not used for fitting.  How would you split the available data into \"test\" and \"train\" datasets?  Try splitting the data into the first half of trials and second half.  Next randomly assign trials across the session to the train and test sets. How does this impact your results?  \n",
    "    \n",
    "</div>"
   ]
  },
  {
   "cell_type": "code",
   "execution_count": null,
   "id": "4d382eea",
   "metadata": {},
   "outputs": [],
   "source": []
  },
  {
   "cell_type": "markdown",
   "id": "9df4e6af",
   "metadata": {},
   "source": [
    "<div style=\"background: #DFF0D8; border-radius: 3px; padding: 10px;\">\n",
    "\n",
    "<h1>  Exercise 4:  Spatial arrangement of cell properties.</h1>\n",
    "\n",
    "Do response features cluster in space? You can use the ROI masks to localize each neuron in the field of view, and consider the spatial relationships between neurons.\n",
    "\n",
    "Version 1.\n",
    "a. Choose a single cell metrics and compute for all the neurons in an experiment.\n",
    "    \n",
    "b. Plot the roi masks, shading each mask according to the value of your metric\n",
    "    \n",
    "Version 2.    \n",
    "a. Compute the \"location\" of each neuron by finding the center of mass of each roi_mask (compute the average x and y location of each pixel in the mask).\n",
    "    \n",
    "c. Compute the difference in your metric between each pair of neurons in the session.\n",
    "    \n",
    "d. Plot the difference in metric vs the distance between masks.\n",
    "    \n",
    "NOTE: Depending on the metric you choose, this is likely to not yield obvious results. However, there could be some types of correlations that prove interesting.\n",
    "    \n",
    "</div>"
   ]
  },
  {
   "cell_type": "code",
   "execution_count": null,
   "id": "f783f9e8",
   "metadata": {},
   "outputs": [],
   "source": []
  },
  {
   "cell_type": "markdown",
   "id": "a4d768f8",
   "metadata": {},
   "source": [
    "<div style=\"background: #DFF0D8; border-radius: 3px; padding: 10px;\">\n",
    "\n",
    "<h1> Exercise 5:  Running responses. </h1>   \n",
    "\n",
    "a. Find the running speed of the mouse in a session. (Note: mice don't always choose to run, so you might need to look at a few to find one you like)\n",
    "    \n",
    "b. Plot the running speed along with the responses for a few neurons in that session.  Do you see any patterns?\n",
    "    \n",
    "c. Compute the Pearson correlation between the running speed and the response for each neuron in the session. (Hint: it can help to bin both the activity and the running speed). Plot a histogram of the values.\n",
    "    \n",
    "d. Plot a histogram of running speed.  Choose a threshold above which speeds will be considered \"running\", and below \"stationary\".\n",
    "    \n",
    "e. Separate responses to drifting gratings based on whether the average running speed during that presentation was \"running\" or \"stationary\"\n",
    "    \n",
    "f. Plot the tuning curves for direction separately for \"running\" and \"stationary\" responses.  For how many neurons in the session you are looking at are the tuning curves modulated by running speed?  How would you decide?\n",
    "\n",
    "(Note: this analysis can be done with other stimuli as well. The long trial duration for drifting gratings makes it a bit easier for this analysis.)\n",
    "</div>"
   ]
  },
  {
   "cell_type": "code",
   "execution_count": null,
   "id": "ab0e4ca1",
   "metadata": {},
   "outputs": [],
   "source": []
  },
  {
   "cell_type": "markdown",
   "id": "4062d724",
   "metadata": {},
   "source": [
    "<div style=\"background: #DFF0D8; border-radius: 3px; padding: 10px;\">\n",
    "\n",
    "<h1>  Exercise 6:  What is the \"dimension\" of neural activity? </h1> \n",
    "    \n",
    "a. Use the PCA object in scikit-learn to perform Principle Components Analysis.  Follow a similar approach to the example of scikit-learn from the tutorial; use the array of responses over time for the set of neurons in an experimental session as in the input.  \"Fit\" the PCA model to this data.  \n",
    "  \n",
    "b. Look at the \"explained variance ratio\" by looking at the \"explained_variance_ratio_\" variable.  Plot this value.  Identify the number of components necessary to explain 95% of the variance.  (hint:  look at the cumulative sum of the explained variance ratio).  \n",
    "    \n",
    "c. Separate the data into epochs of each stimulus type.  Compute the number of components necessary to explain 95% of the data separately for each stimulus type.  Is there a difference in this value across stimulus types?\n",
    "    \n",
    "d. Look at this value across areas, layers, and Excitatory/Inhibitory types.  Look at Exercise 1 to see how imaging depth maps to layer. \n",
    "    \n",
    "    \n",
    "</div>"
   ]
  },
  {
   "cell_type": "code",
   "execution_count": null,
   "id": "ba196d8b",
   "metadata": {},
   "outputs": [],
   "source": []
  },
  {
   "cell_type": "markdown",
   "id": "a3a22165",
   "metadata": {},
   "source": [
    "<div style=\"background: #DFF0D8; border-radius: 3px; padding: 10px;\">\n",
    "    \n",
    "<h1> Exercise 7:  Responses over time </h1>\n",
    "Many of our stimuli were presented in multiple epochs during a session. Compare the responses during these different epochs to see whether the responses change across time.\n",
    "\n",
    "a. Separate the data for a given stimulus into the different epochs.\n",
    "    \n",
    "b. Compute the response to a stimulus type for each time period.\n",
    "    \n",
    "c. How would you determine if these are significantly different?  Plot the tuning curves together with the indivdiual trials in each time period.  Can you find any neurons such that the tuning curves appear to change significantly relative to the trial variability?  Do this visually.  What statistical test would you use for this question?\n",
    "\n",
    "d. A variant on this would be to look at the responses to `natural_movie_one` across sessions. You will need to match the cell id across sessions to find neurons recorded on more than one day.\n",
    "    \n",
    "</div>"
   ]
  },
  {
   "cell_type": "code",
   "execution_count": null,
   "id": "7f41178d",
   "metadata": {},
   "outputs": [],
   "source": []
  },
  {
   "cell_type": "markdown",
   "id": "cedf0396",
   "metadata": {},
   "source": [
    "<div style=\"background: #DFF0D8; border-radius: 3px; padding: 10px;\">\n",
    "    \n",
    "<h1> Exercise 8:  Decoding other stimulus types </h1>\n",
    "\n",
    "Repeat the decoding exercise from the tutorial with a different stimulus type of your choice.\n",
    "\n",
    "a. How does the decodability vary across stimulus types?\n",
    "    \n",
    "b. Sub-sample the neurons randomly in groups of size N and compute the decoding performance as a function of N. How many neurons do you need to decode your stimulus? Does it matter which neurons?\n",
    "\n",
    "c. If you use a decoder like LogisticRegression or LinearDiscriminantAnalysis you will be able to extract the decoding weights for each neuron.  Perform the decoding example with direction in drifting gratings.  Compare the weights for each neuron to the tuning curves.  Are the preferred directions always the directions with highest weight for a given neuron?\n",
    "   \n",
    "    \n",
    "</div>"
   ]
  },
  {
   "cell_type": "code",
   "execution_count": null,
   "id": "e2588eb8",
   "metadata": {},
   "outputs": [],
   "source": []
  },
  {
   "cell_type": "markdown",
   "id": "f4d6a91f",
   "metadata": {},
   "source": [
    "<div style=\"background: #DFF0D8; border-radius: 3px; padding: 10px;\">\n",
    "    \n",
    "<h1> Exercise 9: Predicting cell type, cortical area, or layer from activity </h1>\n",
    "\n",
    "Can you predict either what cell type or what cortical area a given neuron is from based off of it's activity? \n",
    "\n",
    "a. Choose a selection of single cell metrics. Make a dataframe of these metrics across many experiment sessions including a variety of areas or cell types. (It might be prudent to look at one question at a time rather than predict both axes. If looking at cell type, restrict yourself to experiments in VISp. If looking at cortical area, restrict yourself to excitatory neurons found in all those areas.\n",
    "    \n",
    "b. Use supervised or semi-supervised methods to predict the cell type or cortical area based on those metrics. How accurate are you?\n",
    "    \n",
    "c. Can you predict based on non-derived features? E.g. can you use the activity traces to make these predictions?\n",
    "    \n",
    "</div>"
   ]
  },
  {
   "cell_type": "code",
   "execution_count": null,
   "id": "66cc85a4",
   "metadata": {},
   "outputs": [],
   "source": []
  },
  {
   "cell_type": "markdown",
   "id": "66d73792",
   "metadata": {},
   "source": [
    "<div style=\"background: #DFF0D8; border-radius: 3px; padding: 10px;\">\n",
    "    \n",
    "As you continue through the course, you will encounter a few new techniques (or you may have already encountered them in your studies) such as fitting Recurrent Neural Networks, or other types of Unsupervised or Supervised Learning approaches.  Recurrent Neural Networks and Deep Networks can be useful tools for predicting neural activity.  Unsupervised methods can be useful for identifying latent variables and providing simplified descriptions of complex data for later analysis.  Many of the above exercises can be repeated with more complex models.  \n",
    "    \n",
    "</div>"
   ]
  },
  {
   "cell_type": "code",
   "execution_count": null,
   "id": "77ced1ec",
   "metadata": {},
   "outputs": [],
   "source": []
  }
 ],
 "metadata": {
  "kernelspec": {
   "display_name": "Python 3",
   "language": "python",
   "name": "python3"
  },
  "language_info": {
   "codemirror_mode": {
    "name": "ipython",
    "version": 3
   },
   "file_extension": ".py",
   "mimetype": "text/x-python",
   "name": "python",
   "nbconvert_exporter": "python",
   "pygments_lexer": "ipython3",
   "version": "3.8.5"
  }
 },
 "nbformat": 4,
 "nbformat_minor": 5
}
