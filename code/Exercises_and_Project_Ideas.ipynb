{
 "cells": [
  {
   "cell_type": "markdown",
   "id": "1368121d",
   "metadata": {},
   "source": [
    "![Image](./resources/header.png)\n",
    "<h1 align=\"center\">Further Exercises and Project Ideas</h1> \n",
    "<h3 align=\"center\">TReND CaMinA 2024</h3>"
   ]
  },
  {
   "cell_type": "code",
   "execution_count": 1,
   "id": "67343b24",
   "metadata": {},
   "outputs": [],
   "source": [
    "import numpy as np\n",
    "import pandas as pd\n",
    "import matplotlib.pyplot as plt\n",
    "%matplotlib inline\n",
    "import seaborn as sns"
   ]
  },
  {
   "cell_type": "code",
   "execution_count": 2,
   "id": "f1bb33a4",
   "metadata": {},
   "outputs": [],
   "source": [
    "import os\n",
    "import platform\n",
    "\n",
    "# Set file location based on platform. \n",
    "platstring = platform.platform()\n",
    "if ('Darwin' in platstring) or ('macOS' in platstring):\n",
    "    # macOS \n",
    "    data_root = \"/Volumes/TReND2024/\"\n",
    "elif 'Windows'  in platstring:\n",
    "    # Windows (replace with the drive letter of USB drive)\n",
    "    data_root = \"E:/\"\n",
    "elif ('amzn' in platstring):\n",
    "    # then on Code Ocean\n",
    "    data_root = \"/data/\"\n",
    "else:\n",
    "    # then your own linux platform\n",
    "    # EDIT location where you mounted hard drive\n",
    "    data_root = \"/media/$USERNAME/TReND2024/\"\n",
    "\n",
    "manifest_file = os.path.join(data_root,'allen-brain-observatory/visual-coding-2p/manifest.json')"
   ]
  },
  {
   "cell_type": "code",
   "execution_count": 3,
   "id": "bcfa8673",
   "metadata": {},
   "outputs": [],
   "source": [
    "from allensdk.core.brain_observatory_cache import BrainObservatoryCache\n",
    "\n",
    "#This instantiates the Brain Observatory Cache\n",
    "boc = BrainObservatoryCache(manifest_file=manifest_file)"
   ]
  },
  {
   "cell_type": "markdown",
   "id": "4df397ab",
   "metadata": {},
   "source": [
    "<div style=\"background: #DFF0D8; border-radius: 3px; padding: 10px;\">\n",
    "\n",
    "<h3> Exercise 1:  Comparing single cell metrics </h3>\n",
    "    \n",
    "a. Compute image selectivity  for a single neuron's response to natural scenes.  Image selectivity is a measure of how specifically a neuron responds to given images.  High selectivity means the neuron responds to very few images.  Low selectivity means it responds to many images.  You can use the following formula:\n",
    "    \n",
    "    \n",
    "    \n",
    "b. What is the distribution of this property across an experiment session?   Plot a histrogram of this value for the cells in a single experiment session.\n",
    "    \n",
    "c. How does this property compare across areas, layers, or Cre-lines?  Create a dataframe that contains cells across many experiments.  Include the area, the Cre line, the selectivity value, and the depth.  Add a column to the data frame that assigns a layer to each cell according to depth, using the following values:\n",
    "Layer 2/3 < 250\n",
    "Layer 4 250 - 350\n",
    "Layer 5 350 - 500\n",
    "Layer 500+\n",
    "    \n",
    "Add another column that labels each neuron as \"Excitatory\" or \"Inhibitory\".  For reference, the following Cre-lines are Inhibitory: PV, SST, and VIP.  The remaining are Excitatory.     \n",
    "    \n",
    "d. Using the dataframe you created in part c, make histograms of selectivity in each area and layer, and for Excitatory and Inhibitory cells.  Do you see any differences?  \n",
    "\n",
    "e. Compute the selectivity for a single neuron's response to drifting gratings.  Add this property to your dataframe.\n",
    "    \n",
    "f. Make scatter plots of image selectivity vs drifting grating selectivity for the cells in your dataframe.  Label these data points by area, layer, and whether the cells are Excitatory or Inhibitory.\n",
    "    \n",
    "g. Can you think of other response properties you might be interested in?  Add these to your data frame and make similar plots.\n",
    "\n",
    "</div>"
   ]
  },
  {
   "cell_type": "code",
   "execution_count": null,
   "id": "a44f9604",
   "metadata": {},
   "outputs": [],
   "source": []
  },
  {
   "cell_type": "markdown",
   "id": "f7356a8f",
   "metadata": {},
   "source": [
    "<div style=\"background: #DFF0D8; border-radius: 3px; padding: 10px;\">\n",
    "   \n",
    "<h3> Exercise 2: Comparing preferred responses.</h3>\n",
    "    \n",
    "a. Choose an experimental session.  Compute the tuning curves for static gratings for neurons in that session.  Similar to the drifting grating responses, the static gratings are defined by an \"orientation\" and a \"spatial frequency\".  \n",
    "  \n",
    "    \n",
    "b. What is the preferred orientation (the orientation of maximal response) for each spatial frequency?  Is it the same across different spatial frequencies?  How many neurons in your session have preferred orientations that are different at different spatial frequencies?  \n",
    "    \n",
    "c. Compute a single \"preferred orientation\" for each cell by averaging the tuning curves over spatial frequencies.  Based on your analysis in b, is this a good idea?\n",
    "    \n",
    "d. Repeat the analysis for drifting grating responses and temporal frequencies.  Do you find any cells whose preferred orientation changes with temporal frequency?  \n",
    "    \n",
    "e. Plot preferred orientation for static grating responses to the preferred direction for drifting grating responses.  How many cells do you find for which these are different?\n",
    "      \n",
    "\n",
    "    \n",
    "</div>"
   ]
  },
  {
   "cell_type": "code",
   "execution_count": null,
   "id": "774b799c",
   "metadata": {},
   "outputs": [],
   "source": []
  },
  {
   "cell_type": "markdown",
   "id": "f808071f",
   "metadata": {},
   "source": [
    "<div style=\"background: #DFF0D8; border-radius: 3px; padding: 10px;\">\n",
    "\n",
    "<h3> Exercise 3:  Predicting neural responses from tuning curves. </h3>\n",
    "    \n",
    "We would like to be able to predict neural responses given a stimulus input.  How well does this work for neurons in our dataset?    \n",
    "\n",
    "First we have to ask what this question means.  We will consider the response to drifting grating stimuli.  We need a model for neural response, which in this case we will take to be the simple model that the neuron responds with a given level of activity in response to a given stimulus configuration, plus an amount of noise.\n",
    "    \n",
    "We will use the LinearRegression module from scikit-learn for this exercise.  We'll follow a set of steps similar to the example of decoding from the tutorial.\n",
    "    \n",
    "a. First we need to create a \"design matrix\" for the input.  In this case we will use \"one-hot encoding\".  For each presentation of the drifting grating stimulus, we will have 41 conditions.  8 directions * 5 temporal frequencies plus 1 blank screen.  Assign each one an index.  Using the stimulus table, create a design matrix of shape (number of trials, 41) where each entry is 1 if the stimulus condition on that trial corresponds to that index and is zero otherwise.  \n",
    "    \n",
    "b. Create a LinearRegression instance similar to how we created a LogisticRegression instance in the tutorial.  Fit the model following similar steps, where in the \"inputs\" are given by the design matrix you constructed in part a and the outputs are the cell's response.  \n",
    "    \n",
    "c. How well does this model work?  Similar to the tutorial, plot the tuning curves at each temporal frequency along with the individual trials.  Compute the \"score\" given by scikit-learn.  Do the neuron's with better scores make sense based on the tuning curve plots?\n",
    "    \n",
    "d. The above gives a \"best case scenario\" for the models, because we fit on all the available data.  A better assessment of the model performance requires testing on data that was not used for fitting.  How would you split the available data into \"test\" and \"train\" datasets?  Try splitting the data into the first half of trials and second half.  Next randomly assign trials across the session to the train and test sets. How does this impact your results?  \n",
    "    \n",
    "</div>"
   ]
  },
  {
   "cell_type": "code",
   "execution_count": null,
   "id": "581f6e79",
   "metadata": {},
   "outputs": [],
   "source": []
  },
  {
   "cell_type": "markdown",
   "id": "163d2fa6",
   "metadata": {},
   "source": [
    "<div style=\"background: #DFF0D8; border-radius: 3px; padding: 10px;\">\n",
    "\n",
    "<h3>  Exercise 4:  Spatial arrangement of cell properties.</h3>\n",
    "\n",
    "    \n",
    "Part I.\n",
    "a. Compute the preferred direction of each neuron in response to drifting gratings. (OR: choose any single cell property that interests you!)\n",
    "    \n",
    "b. Find the max projection image of the calcium recording.  Plot the cell masks over the max projection, shading each mask according to the preferred direction.\n",
    "    \n",
    "Part II.\n",
    "a. For an experimental session, get the roi_masks.  These are the boolean arrays that provide the pixels in the optical imaging field that are assigned to a given cell.\n",
    "    \n",
    "b. Compute the \"location\" of each cell by finding the center of mass of each roi_mask (compute the average x and y location of each pixel in the mask).\n",
    "    \n",
    "c. Pick a cell near the center of the imaging plane.  Compute the difference in preferred direction between each cell in the session and the chosen cell.\n",
    "    \n",
    "d. Plot the difference in preferred direction vs the distance between masks.\n",
    "    \n",
    "e. Repeat this for many cells and compute the average difference in preferred direction vs distance between masks.\n",
    "    \n",
    "</div>"
   ]
  },
  {
   "cell_type": "code",
   "execution_count": null,
   "id": "f2091dc4",
   "metadata": {},
   "outputs": [],
   "source": []
  },
  {
   "cell_type": "markdown",
   "id": "d00234d4",
   "metadata": {},
   "source": [
    "<div style=\"background: #DFF0D8; border-radius: 3px; padding: 10px;\">\n",
    "\n",
    "<h3> Exercise 5:  Running responses. </h3>   \n",
    "\n",
    "a. Find the running speed of the mouse in an experimental session.\n",
    "    \n",
    "b. Plot the running speed along with the responses for a few neurons in that session.  Do you see any patterns?\n",
    "    \n",
    "c. Compute the Pearson correlation between the running speed and the response for each neuron in the session.  Plot a histogram of the values.\n",
    "    \n",
    "d. Plot a histogram of running speed.  Choose a threshold above which speeds will be considered \"fast\", and below \"slow\".\n",
    "    \n",
    "e. Separate responses to drifting gratings based on whether the average running speed during that presentation was \"fast\" or \"slow\"\n",
    "    \n",
    "f. Plot the tuning curves for direction separately for \"fast\" and \"slow\" responses.  For how many neurons in the session you are looking at are the tuning curves modulated by running speed?  How would you decide?\n",
    "\n",
    "</div>"
   ]
  },
  {
   "cell_type": "code",
   "execution_count": null,
   "id": "8aba475d",
   "metadata": {},
   "outputs": [],
   "source": []
  },
  {
   "cell_type": "markdown",
   "id": "8951485c",
   "metadata": {},
   "source": [
    "<div style=\"background: #DFF0D8; border-radius: 3px; padding: 10px;\">\n",
    "\n",
    "<h3>  Exercise 6:  What is the \"dimension\" of neural activity? </h3> \n",
    "    \n",
    "a. Use the PCA object in scikit-learn to perform Principle Components Analysis.  Follow a similar approach to the example of scikit-learn from the tutorial; use the array of responses over time for the set of neurons in an experimental session as in the input.  \"Fit\" the PCA model to this data.  \n",
    "  \n",
    "b. Look at the \"explained variance ratio\" by looking at the \"explained_variance_ratio_\" variable.  Plot this value.  Identify the number of components necessary to explain 95% of the variance.  (hint:  look at the cumulative sum of the explained variance ratio).  \n",
    "    \n",
    "c. Separate the data into epochs of each stimulus type.  Compute the number of components necessary to explain 95% of the data separately for each stimulus type.  Is there a difference in this value across stimulus types?\n",
    "    \n",
    "d. Look at this value across areas, layers, and Excitatory/Inhibitory types.  Look at Exercise 1 to see how imaging depth maps to layer. \n",
    "    \n",
    "    \n",
    "</div>"
   ]
  },
  {
   "cell_type": "code",
   "execution_count": null,
   "id": "83c1334f",
   "metadata": {},
   "outputs": [],
   "source": []
  },
  {
   "cell_type": "markdown",
   "id": "1d60d59e",
   "metadata": {},
   "source": [
    "<div style=\"background: #DFF0D8; border-radius: 3px; padding: 10px;\">\n",
    "    \n",
    "<h3> Exercise 7:  Responses over time </h3>\n",
    "\n",
    "a. Separate the data by time into 4 evenly sized contiguous fragments (i.e. the 1st 25% of the data, the 2nd 25%, etc.)\n",
    "    \n",
    "b. Compute the response to a stimulus type (we suggest starting with drifting gratings and the direction tuning curve) for each time period.\n",
    "    \n",
    "c. How would you determine if these are significantly different?  Plot the tuning curves together with the indivdiual trials in each time period.  Can you find any neurons such that the tuning curves appear to change significantly relative to the trial variability?  Do this visually.  What statistical test would you use for this question?\n",
    "\n",
    "    \n",
    "</div>"
   ]
  },
  {
   "cell_type": "code",
   "execution_count": null,
   "id": "9a7f8aae",
   "metadata": {},
   "outputs": [],
   "source": []
  },
  {
   "cell_type": "markdown",
   "id": "622e521a",
   "metadata": {},
   "source": [
    "<div style=\"background: #DFF0D8; border-radius: 3px; padding: 10px;\">\n",
    "    \n",
    "<h3> Exercise 8:  Decoding other stimulus types </h3>\n",
    "\n",
    "Repeat the decoding exercise from the tutorial with a different stimulus type of your choice.\n",
    "\n",
    "a. How does the decodability vary over stimulus types?\n",
    "    \n",
    "b. Sub-sample the neurons randomly in groups of size N and compute the decoding performance as a function of N.\n",
    "\n",
    "c. If you use a decoder like LogisticRegression or LinearDiscriminantAnalysis you will be able to extract the decoding weights for each neuron.  Perform the decoding example with direction in drifting gratings.  Compare the weights for each neuron to the tuning curves.  Are the preferred directions always the directions with highest weight for a given neuron?\n",
    "   \n",
    "    \n",
    "</div>"
   ]
  },
  {
   "cell_type": "code",
   "execution_count": null,
   "id": "4da5b599",
   "metadata": {},
   "outputs": [],
   "source": []
  },
  {
   "cell_type": "markdown",
   "id": "30311af7",
   "metadata": {},
   "source": [
    "<div style=\"background: #DFF0D8; border-radius: 3px; padding: 10px;\">\n",
    "    \n",
    "As you continue through the course, you will encounter a few new techniques (or you may have already encountered them in your studies) such as fitting Recurrent Neural Networks, or other types of Unsupervised or Supervised Learning approaches.  Recurrent Neural Networks and Deep Networks can be useful tools for predicting neural activity.  Unsupervised methods can be useful for identifying latent variables and providing simplified descriptions of complex data for later analysis.  Many of the above exercises can be repeated with more complex models.  \n",
    "    \n",
    "</div>"
   ]
  },
  {
   "cell_type": "code",
   "execution_count": null,
   "id": "1624581e",
   "metadata": {},
   "outputs": [],
   "source": []
  }
 ],
 "metadata": {
  "kernelspec": {
   "display_name": "Python 3",
   "language": "python",
   "name": "python3"
  },
  "language_info": {
   "codemirror_mode": {
    "name": "ipython",
    "version": 3
   },
   "file_extension": ".py",
   "mimetype": "text/x-python",
   "name": "python",
   "nbconvert_exporter": "python",
   "pygments_lexer": "ipython3",
   "version": "3.8.5"
  }
 },
 "nbformat": 4,
 "nbformat_minor": 5
}
